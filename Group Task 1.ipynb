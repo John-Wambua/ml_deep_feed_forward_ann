{
 "cells": [
  {
   "cell_type": "code",
   "execution_count": 146,
   "metadata": {},
   "outputs": [],
   "source": [
    "from sklearn.model_selection import train_test_split\n",
    "from sklearn.preprocessing import StandardScaler\n",
    "from sklearn.linear_model import LassoCV\n",
    "from keras.models import Sequential\n",
    "from keras.layers import Dense, Activation, Dropout\n",
    "from sklearn.metrics import mean_squared_error, mean_absolute_error, explained_variance_score\n",
    "import pandas as pd\n",
    "import numpy as np\n",
    "import matplotlib.pyplot as plt\n",
    "import seaborn as sns\n",
    "%matplotlib inline"
   ]
  },
  {
   "cell_type": "markdown",
   "metadata": {},
   "source": [
    "## Load the dataset"
   ]
  },
  {
   "cell_type": "code",
   "execution_count": 9,
   "metadata": {},
   "outputs": [],
   "source": [
    "data = pd.read_csv('Housing Pricing.csv')"
   ]
  },
  {
   "cell_type": "code",
   "execution_count": 10,
   "metadata": {},
   "outputs": [
    {
     "name": "stdout",
     "output_type": "stream",
     "text": [
      "<class 'pandas.core.frame.DataFrame'>\n",
      "RangeIndex: 1460 entries, 0 to 1459\n",
      "Data columns (total 77 columns):\n",
      " #   Column         Non-Null Count  Dtype  \n",
      "---  ------         --------------  -----  \n",
      " 0   Id             1460 non-null   int64  \n",
      " 1   MSSubClass     1460 non-null   int64  \n",
      " 2   MSZoning       1460 non-null   object \n",
      " 3   LotFrontage    1201 non-null   float64\n",
      " 4   LotArea        1460 non-null   int64  \n",
      " 5   Street         1460 non-null   object \n",
      " 6   LotShape       1460 non-null   object \n",
      " 7   LandContour    1460 non-null   object \n",
      " 8   Utilities      1460 non-null   object \n",
      " 9   LotConfig      1460 non-null   object \n",
      " 10  LandSlope      1460 non-null   object \n",
      " 11  Neighborhood   1460 non-null   object \n",
      " 12  Condition1     1460 non-null   object \n",
      " 13  Condition2     1460 non-null   object \n",
      " 14  BldgType       1460 non-null   object \n",
      " 15  HouseStyle     1460 non-null   object \n",
      " 16  OverallQual    1460 non-null   int64  \n",
      " 17  OverallCond    1460 non-null   int64  \n",
      " 18  YearBuilt      1460 non-null   int64  \n",
      " 19  YearRemodAdd   1460 non-null   int64  \n",
      " 20  RoofStyle      1460 non-null   object \n",
      " 21  RoofMatl       1460 non-null   object \n",
      " 22  Exterior1st    1460 non-null   object \n",
      " 23  Exterior2nd    1460 non-null   object \n",
      " 24  MasVnrType     1452 non-null   object \n",
      " 25  MasVnrArea     1452 non-null   float64\n",
      " 26  ExterQual      1460 non-null   object \n",
      " 27  ExterCond      1460 non-null   object \n",
      " 28  Foundation     1460 non-null   object \n",
      " 29  BsmtQual       1423 non-null   object \n",
      " 30  BsmtCond       1423 non-null   object \n",
      " 31  BsmtExposure   1422 non-null   object \n",
      " 32  BsmtFinType1   1423 non-null   object \n",
      " 33  BsmtFinSF1     1460 non-null   int64  \n",
      " 34  BsmtFinType2   1422 non-null   object \n",
      " 35  BsmtFinSF2     1460 non-null   int64  \n",
      " 36  BsmtUnfSF      1460 non-null   int64  \n",
      " 37  TotalBsmtSF    1460 non-null   int64  \n",
      " 38  Heating        1460 non-null   object \n",
      " 39  HeatingQC      1460 non-null   object \n",
      " 40  CentralAir     1460 non-null   object \n",
      " 41  Electrical     1459 non-null   object \n",
      " 42  1stFlrSF       1460 non-null   int64  \n",
      " 43  2ndFlrSF       1460 non-null   int64  \n",
      " 44  LowQualFinSF   1460 non-null   int64  \n",
      " 45  GrLivArea      1460 non-null   int64  \n",
      " 46  BsmtFullBath   1460 non-null   int64  \n",
      " 47  BsmtHalfBath   1460 non-null   int64  \n",
      " 48  FullBath       1460 non-null   int64  \n",
      " 49  HalfBath       1460 non-null   int64  \n",
      " 50  BedroomAbvGr   1460 non-null   int64  \n",
      " 51  KitchenAbvGr   1460 non-null   int64  \n",
      " 52  KitchenQual    1460 non-null   object \n",
      " 53  TotRmsAbvGrd   1460 non-null   int64  \n",
      " 54  Functional     1460 non-null   object \n",
      " 55  Fireplaces     1460 non-null   int64  \n",
      " 56  FireplaceQu    770 non-null    object \n",
      " 57  GarageType     1379 non-null   object \n",
      " 58  GarageYrBlt    1379 non-null   float64\n",
      " 59  GarageFinish   1379 non-null   object \n",
      " 60  GarageCars     1460 non-null   int64  \n",
      " 61  GarageArea     1460 non-null   int64  \n",
      " 62  GarageQual     1379 non-null   object \n",
      " 63  GarageCond     1379 non-null   object \n",
      " 64  PavedDrive     1460 non-null   object \n",
      " 65  WoodDeckSF     1460 non-null   int64  \n",
      " 66  OpenPorchSF    1460 non-null   int64  \n",
      " 67  EnclosedPorch  1460 non-null   int64  \n",
      " 68  3SsnPorch      1460 non-null   int64  \n",
      " 69  ScreenPorch    1460 non-null   int64  \n",
      " 70  PoolArea       1460 non-null   int64  \n",
      " 71  MiscVal        1460 non-null   int64  \n",
      " 72  MoSold         1460 non-null   int64  \n",
      " 73  YrSold         1460 non-null   int64  \n",
      " 74  SaleType       1460 non-null   object \n",
      " 75  SaleCondition  1460 non-null   object \n",
      " 76  SalePrice      1460 non-null   int64  \n",
      "dtypes: float64(3), int64(35), object(39)\n",
      "memory usage: 878.4+ KB\n"
     ]
    }
   ],
   "source": [
    "data.info()"
   ]
  },
  {
   "cell_type": "code",
   "execution_count": 11,
   "metadata": {},
   "outputs": [
    {
     "data": {
      "text/html": [
       "<div>\n",
       "<style scoped>\n",
       "    .dataframe tbody tr th:only-of-type {\n",
       "        vertical-align: middle;\n",
       "    }\n",
       "\n",
       "    .dataframe tbody tr th {\n",
       "        vertical-align: top;\n",
       "    }\n",
       "\n",
       "    .dataframe thead th {\n",
       "        text-align: right;\n",
       "    }\n",
       "</style>\n",
       "<table border=\"1\" class=\"dataframe\">\n",
       "  <thead>\n",
       "    <tr style=\"text-align: right;\">\n",
       "      <th></th>\n",
       "      <th>Id</th>\n",
       "      <th>MSSubClass</th>\n",
       "      <th>MSZoning</th>\n",
       "      <th>LotFrontage</th>\n",
       "      <th>LotArea</th>\n",
       "      <th>Street</th>\n",
       "      <th>LotShape</th>\n",
       "      <th>LandContour</th>\n",
       "      <th>Utilities</th>\n",
       "      <th>LotConfig</th>\n",
       "      <th>...</th>\n",
       "      <th>EnclosedPorch</th>\n",
       "      <th>3SsnPorch</th>\n",
       "      <th>ScreenPorch</th>\n",
       "      <th>PoolArea</th>\n",
       "      <th>MiscVal</th>\n",
       "      <th>MoSold</th>\n",
       "      <th>YrSold</th>\n",
       "      <th>SaleType</th>\n",
       "      <th>SaleCondition</th>\n",
       "      <th>SalePrice</th>\n",
       "    </tr>\n",
       "  </thead>\n",
       "  <tbody>\n",
       "    <tr>\n",
       "      <th>0</th>\n",
       "      <td>1</td>\n",
       "      <td>60</td>\n",
       "      <td>RL</td>\n",
       "      <td>65.0</td>\n",
       "      <td>8450</td>\n",
       "      <td>Pave</td>\n",
       "      <td>Reg</td>\n",
       "      <td>Lvl</td>\n",
       "      <td>AllPub</td>\n",
       "      <td>Inside</td>\n",
       "      <td>...</td>\n",
       "      <td>0</td>\n",
       "      <td>0</td>\n",
       "      <td>0</td>\n",
       "      <td>0</td>\n",
       "      <td>0</td>\n",
       "      <td>2</td>\n",
       "      <td>2008</td>\n",
       "      <td>WD</td>\n",
       "      <td>Normal</td>\n",
       "      <td>208500</td>\n",
       "    </tr>\n",
       "    <tr>\n",
       "      <th>1</th>\n",
       "      <td>2</td>\n",
       "      <td>20</td>\n",
       "      <td>RL</td>\n",
       "      <td>80.0</td>\n",
       "      <td>9600</td>\n",
       "      <td>Pave</td>\n",
       "      <td>Reg</td>\n",
       "      <td>Lvl</td>\n",
       "      <td>AllPub</td>\n",
       "      <td>FR2</td>\n",
       "      <td>...</td>\n",
       "      <td>0</td>\n",
       "      <td>0</td>\n",
       "      <td>0</td>\n",
       "      <td>0</td>\n",
       "      <td>0</td>\n",
       "      <td>5</td>\n",
       "      <td>2007</td>\n",
       "      <td>WD</td>\n",
       "      <td>Normal</td>\n",
       "      <td>181500</td>\n",
       "    </tr>\n",
       "    <tr>\n",
       "      <th>2</th>\n",
       "      <td>3</td>\n",
       "      <td>60</td>\n",
       "      <td>RL</td>\n",
       "      <td>68.0</td>\n",
       "      <td>11250</td>\n",
       "      <td>Pave</td>\n",
       "      <td>IR1</td>\n",
       "      <td>Lvl</td>\n",
       "      <td>AllPub</td>\n",
       "      <td>Inside</td>\n",
       "      <td>...</td>\n",
       "      <td>0</td>\n",
       "      <td>0</td>\n",
       "      <td>0</td>\n",
       "      <td>0</td>\n",
       "      <td>0</td>\n",
       "      <td>9</td>\n",
       "      <td>2008</td>\n",
       "      <td>WD</td>\n",
       "      <td>Normal</td>\n",
       "      <td>223500</td>\n",
       "    </tr>\n",
       "    <tr>\n",
       "      <th>3</th>\n",
       "      <td>4</td>\n",
       "      <td>70</td>\n",
       "      <td>RL</td>\n",
       "      <td>60.0</td>\n",
       "      <td>9550</td>\n",
       "      <td>Pave</td>\n",
       "      <td>IR1</td>\n",
       "      <td>Lvl</td>\n",
       "      <td>AllPub</td>\n",
       "      <td>Corner</td>\n",
       "      <td>...</td>\n",
       "      <td>272</td>\n",
       "      <td>0</td>\n",
       "      <td>0</td>\n",
       "      <td>0</td>\n",
       "      <td>0</td>\n",
       "      <td>2</td>\n",
       "      <td>2006</td>\n",
       "      <td>WD</td>\n",
       "      <td>Abnorml</td>\n",
       "      <td>140000</td>\n",
       "    </tr>\n",
       "    <tr>\n",
       "      <th>4</th>\n",
       "      <td>5</td>\n",
       "      <td>60</td>\n",
       "      <td>RL</td>\n",
       "      <td>84.0</td>\n",
       "      <td>14260</td>\n",
       "      <td>Pave</td>\n",
       "      <td>IR1</td>\n",
       "      <td>Lvl</td>\n",
       "      <td>AllPub</td>\n",
       "      <td>FR2</td>\n",
       "      <td>...</td>\n",
       "      <td>0</td>\n",
       "      <td>0</td>\n",
       "      <td>0</td>\n",
       "      <td>0</td>\n",
       "      <td>0</td>\n",
       "      <td>12</td>\n",
       "      <td>2008</td>\n",
       "      <td>WD</td>\n",
       "      <td>Normal</td>\n",
       "      <td>250000</td>\n",
       "    </tr>\n",
       "  </tbody>\n",
       "</table>\n",
       "<p>5 rows × 77 columns</p>\n",
       "</div>"
      ],
      "text/plain": [
       "   Id  MSSubClass MSZoning  LotFrontage  LotArea Street LotShape LandContour  \\\n",
       "0   1          60       RL         65.0     8450   Pave      Reg         Lvl   \n",
       "1   2          20       RL         80.0     9600   Pave      Reg         Lvl   \n",
       "2   3          60       RL         68.0    11250   Pave      IR1         Lvl   \n",
       "3   4          70       RL         60.0     9550   Pave      IR1         Lvl   \n",
       "4   5          60       RL         84.0    14260   Pave      IR1         Lvl   \n",
       "\n",
       "  Utilities LotConfig  ... EnclosedPorch 3SsnPorch ScreenPorch PoolArea  \\\n",
       "0    AllPub    Inside  ...             0         0           0        0   \n",
       "1    AllPub       FR2  ...             0         0           0        0   \n",
       "2    AllPub    Inside  ...             0         0           0        0   \n",
       "3    AllPub    Corner  ...           272         0           0        0   \n",
       "4    AllPub       FR2  ...             0         0           0        0   \n",
       "\n",
       "  MiscVal MoSold  YrSold  SaleType  SaleCondition  SalePrice  \n",
       "0       0      2    2008        WD         Normal     208500  \n",
       "1       0      5    2007        WD         Normal     181500  \n",
       "2       0      9    2008        WD         Normal     223500  \n",
       "3       0      2    2006        WD        Abnorml     140000  \n",
       "4       0     12    2008        WD         Normal     250000  \n",
       "\n",
       "[5 rows x 77 columns]"
      ]
     },
     "execution_count": 11,
     "metadata": {},
     "output_type": "execute_result"
    }
   ],
   "source": [
    "data.head()"
   ]
  },
  {
   "cell_type": "markdown",
   "metadata": {},
   "source": [
    "## Data Preprocessing"
   ]
  },
  {
   "cell_type": "markdown",
   "metadata": {},
   "source": [
    "### Missing Data"
   ]
  },
  {
   "cell_type": "code",
   "execution_count": 12,
   "metadata": {},
   "outputs": [
    {
     "data": {
      "text/plain": [
       "1460"
      ]
     },
     "execution_count": 12,
     "metadata": {},
     "output_type": "execute_result"
    }
   ],
   "source": [
    "len(data)"
   ]
  },
  {
   "cell_type": "code",
   "execution_count": 13,
   "metadata": {},
   "outputs": [],
   "source": [
    "data.drop('Id', axis=1, inplace=True)"
   ]
  },
  {
   "cell_type": "code",
   "execution_count": 14,
   "metadata": {},
   "outputs": [
    {
     "data": {
      "text/html": [
       "<div>\n",
       "<style scoped>\n",
       "    .dataframe tbody tr th:only-of-type {\n",
       "        vertical-align: middle;\n",
       "    }\n",
       "\n",
       "    .dataframe tbody tr th {\n",
       "        vertical-align: top;\n",
       "    }\n",
       "\n",
       "    .dataframe thead th {\n",
       "        text-align: right;\n",
       "    }\n",
       "</style>\n",
       "<table border=\"1\" class=\"dataframe\">\n",
       "  <thead>\n",
       "    <tr style=\"text-align: right;\">\n",
       "      <th></th>\n",
       "      <th>MSSubClass</th>\n",
       "      <th>MSZoning</th>\n",
       "      <th>LotFrontage</th>\n",
       "      <th>LotArea</th>\n",
       "      <th>Street</th>\n",
       "      <th>LotShape</th>\n",
       "      <th>LandContour</th>\n",
       "      <th>Utilities</th>\n",
       "      <th>LotConfig</th>\n",
       "      <th>LandSlope</th>\n",
       "      <th>...</th>\n",
       "      <th>EnclosedPorch</th>\n",
       "      <th>3SsnPorch</th>\n",
       "      <th>ScreenPorch</th>\n",
       "      <th>PoolArea</th>\n",
       "      <th>MiscVal</th>\n",
       "      <th>MoSold</th>\n",
       "      <th>YrSold</th>\n",
       "      <th>SaleType</th>\n",
       "      <th>SaleCondition</th>\n",
       "      <th>SalePrice</th>\n",
       "    </tr>\n",
       "  </thead>\n",
       "  <tbody>\n",
       "    <tr>\n",
       "      <th>0</th>\n",
       "      <td>60</td>\n",
       "      <td>RL</td>\n",
       "      <td>65.0</td>\n",
       "      <td>8450</td>\n",
       "      <td>Pave</td>\n",
       "      <td>Reg</td>\n",
       "      <td>Lvl</td>\n",
       "      <td>AllPub</td>\n",
       "      <td>Inside</td>\n",
       "      <td>Gtl</td>\n",
       "      <td>...</td>\n",
       "      <td>0</td>\n",
       "      <td>0</td>\n",
       "      <td>0</td>\n",
       "      <td>0</td>\n",
       "      <td>0</td>\n",
       "      <td>2</td>\n",
       "      <td>2008</td>\n",
       "      <td>WD</td>\n",
       "      <td>Normal</td>\n",
       "      <td>208500</td>\n",
       "    </tr>\n",
       "    <tr>\n",
       "      <th>1</th>\n",
       "      <td>20</td>\n",
       "      <td>RL</td>\n",
       "      <td>80.0</td>\n",
       "      <td>9600</td>\n",
       "      <td>Pave</td>\n",
       "      <td>Reg</td>\n",
       "      <td>Lvl</td>\n",
       "      <td>AllPub</td>\n",
       "      <td>FR2</td>\n",
       "      <td>Gtl</td>\n",
       "      <td>...</td>\n",
       "      <td>0</td>\n",
       "      <td>0</td>\n",
       "      <td>0</td>\n",
       "      <td>0</td>\n",
       "      <td>0</td>\n",
       "      <td>5</td>\n",
       "      <td>2007</td>\n",
       "      <td>WD</td>\n",
       "      <td>Normal</td>\n",
       "      <td>181500</td>\n",
       "    </tr>\n",
       "    <tr>\n",
       "      <th>2</th>\n",
       "      <td>60</td>\n",
       "      <td>RL</td>\n",
       "      <td>68.0</td>\n",
       "      <td>11250</td>\n",
       "      <td>Pave</td>\n",
       "      <td>IR1</td>\n",
       "      <td>Lvl</td>\n",
       "      <td>AllPub</td>\n",
       "      <td>Inside</td>\n",
       "      <td>Gtl</td>\n",
       "      <td>...</td>\n",
       "      <td>0</td>\n",
       "      <td>0</td>\n",
       "      <td>0</td>\n",
       "      <td>0</td>\n",
       "      <td>0</td>\n",
       "      <td>9</td>\n",
       "      <td>2008</td>\n",
       "      <td>WD</td>\n",
       "      <td>Normal</td>\n",
       "      <td>223500</td>\n",
       "    </tr>\n",
       "  </tbody>\n",
       "</table>\n",
       "<p>3 rows × 76 columns</p>\n",
       "</div>"
      ],
      "text/plain": [
       "   MSSubClass MSZoning  LotFrontage  LotArea Street LotShape LandContour  \\\n",
       "0          60       RL         65.0     8450   Pave      Reg         Lvl   \n",
       "1          20       RL         80.0     9600   Pave      Reg         Lvl   \n",
       "2          60       RL         68.0    11250   Pave      IR1         Lvl   \n",
       "\n",
       "  Utilities LotConfig LandSlope  ... EnclosedPorch 3SsnPorch ScreenPorch  \\\n",
       "0    AllPub    Inside       Gtl  ...             0         0           0   \n",
       "1    AllPub       FR2       Gtl  ...             0         0           0   \n",
       "2    AllPub    Inside       Gtl  ...             0         0           0   \n",
       "\n",
       "  PoolArea MiscVal  MoSold  YrSold  SaleType  SaleCondition SalePrice  \n",
       "0        0       0       2    2008        WD         Normal    208500  \n",
       "1        0       0       5    2007        WD         Normal    181500  \n",
       "2        0       0       9    2008        WD         Normal    223500  \n",
       "\n",
       "[3 rows x 76 columns]"
      ]
     },
     "execution_count": 14,
     "metadata": {},
     "output_type": "execute_result"
    }
   ],
   "source": [
    "data.head(3)"
   ]
  },
  {
   "cell_type": "code",
   "execution_count": 16,
   "metadata": {},
   "outputs": [
    {
     "data": {
      "text/plain": [
       "(1460, 76)"
      ]
     },
     "execution_count": 16,
     "metadata": {},
     "output_type": "execute_result"
    }
   ],
   "source": [
    "data.shape"
   ]
  },
  {
   "cell_type": "markdown",
   "metadata": {},
   "source": [
    "**Total missing values per column**"
   ]
  },
  {
   "cell_type": "code",
   "execution_count": 17,
   "metadata": {},
   "outputs": [
    {
     "data": {
      "text/plain": [
       "MSSubClass         0\n",
       "MSZoning           0\n",
       "LotFrontage      259\n",
       "LotArea            0\n",
       "Street             0\n",
       "                ... \n",
       "MoSold             0\n",
       "YrSold             0\n",
       "SaleType           0\n",
       "SaleCondition      0\n",
       "SalePrice          0\n",
       "Length: 76, dtype: int64"
      ]
     },
     "execution_count": 17,
     "metadata": {},
     "output_type": "execute_result"
    }
   ],
   "source": [
    "data.isnull().sum()"
   ]
  },
  {
   "cell_type": "markdown",
   "metadata": {},
   "source": [
    "**Convert into percentage of the total DataFrame**"
   ]
  },
  {
   "cell_type": "code",
   "execution_count": 23,
   "metadata": {},
   "outputs": [
    {
     "data": {
      "text/plain": [
       "MSSubClass        0.000000\n",
       "MSZoning          0.000000\n",
       "LotFrontage      17.739726\n",
       "LotArea           0.000000\n",
       "Street            0.000000\n",
       "                   ...    \n",
       "MoSold            0.000000\n",
       "YrSold            0.000000\n",
       "SaleType          0.000000\n",
       "SaleCondition     0.000000\n",
       "SalePrice         0.000000\n",
       "Length: 76, dtype: float64"
      ]
     },
     "execution_count": 23,
     "metadata": {},
     "output_type": "execute_result"
    }
   ],
   "source": [
    "100* data.isnull().sum()/len(data)"
   ]
  },
  {
   "cell_type": "markdown",
   "metadata": {},
   "source": [
    "**Print out all features with missing values**"
   ]
  },
  {
   "cell_type": "code",
   "execution_count": 19,
   "metadata": {},
   "outputs": [
    {
     "data": {
      "text/plain": [
       "76"
      ]
     },
     "execution_count": 19,
     "metadata": {},
     "output_type": "execute_result"
    }
   ],
   "source": [
    "initial_features = list(data.columns)\n",
    "initial_features\n",
    "len(initial_features)"
   ]
  },
  {
   "cell_type": "code",
   "execution_count": 22,
   "metadata": {},
   "outputs": [
    {
     "data": {
      "text/plain": [
       "15"
      ]
     },
     "execution_count": 22,
     "metadata": {},
     "output_type": "execute_result"
    }
   ],
   "source": [
    "features_missing = list(data.columns[data.isna().any()])\n",
    "len(features_missing)"
   ]
  },
  {
   "cell_type": "code",
   "execution_count": 24,
   "metadata": {},
   "outputs": [
    {
     "name": "stdout",
     "output_type": "stream",
     "text": [
      "LotFrontage   17.73972602739726\n",
      "MasVnrType   0.547945205479452\n",
      "MasVnrArea   0.547945205479452\n",
      "BsmtQual   2.5342465753424657\n",
      "BsmtCond   2.5342465753424657\n",
      "BsmtExposure   2.6027397260273974\n",
      "BsmtFinType1   2.5342465753424657\n",
      "BsmtFinType2   2.6027397260273974\n",
      "Electrical   0.0684931506849315\n",
      "FireplaceQu   47.26027397260274\n",
      "GarageType   5.5479452054794525\n",
      "GarageYrBlt   5.5479452054794525\n",
      "GarageFinish   5.5479452054794525\n",
      "GarageQual   5.5479452054794525\n",
      "GarageCond   5.5479452054794525\n"
     ]
    }
   ],
   "source": [
    "for f in features_missing:\n",
    "    print(f, ' ', 100* data[f].isnull().sum()/len(data))"
   ]
  },
  {
   "cell_type": "markdown",
   "metadata": {},
   "source": [
    "**Drop features with more than 50% missing**"
   ]
  },
  {
   "cell_type": "code",
   "execution_count": 25,
   "metadata": {},
   "outputs": [],
   "source": [
    "data.dropna(axis=1, thresh=0.5 * (len(data)), inplace=True)"
   ]
  },
  {
   "cell_type": "code",
   "execution_count": 26,
   "metadata": {},
   "outputs": [],
   "source": [
    "mean_fill=['LotFrontage', 'MasVnrArea']\n",
    "bfill = ['FireplaceQu']\n",
    "ffill = list(set(features_with_missing)-set(mean_fill)-set(bfill))"
   ]
  },
  {
   "cell_type": "code",
   "execution_count": 27,
   "metadata": {},
   "outputs": [
    {
     "data": {
      "text/plain": [
       "['BsmtExposure',\n",
       " 'BsmtFinType2',\n",
       " 'BsmtFinType1',\n",
       " 'Electrical',\n",
       " 'GarageType',\n",
       " 'GarageQual',\n",
       " 'GarageFinish',\n",
       " 'BsmtQual',\n",
       " 'BsmtCond',\n",
       " 'GarageCond',\n",
       " 'MasVnrType',\n",
       " 'GarageYrBlt']"
      ]
     },
     "execution_count": 27,
     "metadata": {},
     "output_type": "execute_result"
    }
   ],
   "source": [
    "ffill"
   ]
  },
  {
   "cell_type": "code",
   "execution_count": 28,
   "metadata": {},
   "outputs": [],
   "source": [
    "for feature in mean_fill:\n",
    "    data[feature].fillna(data[feature].mean(), inplace=True)"
   ]
  },
  {
   "cell_type": "code",
   "execution_count": 29,
   "metadata": {},
   "outputs": [],
   "source": [
    "for feature in bfill:\n",
    "    data[feature].fillna(method = 'bfill', inplace=True)"
   ]
  },
  {
   "cell_type": "code",
   "execution_count": 30,
   "metadata": {},
   "outputs": [],
   "source": [
    "for feature in ffill:\n",
    "    data[feature].fillna(method = 'ffill', inplace=True)"
   ]
  },
  {
   "cell_type": "code",
   "execution_count": 31,
   "metadata": {},
   "outputs": [
    {
     "data": {
      "text/plain": [
       "MSSubClass       0\n",
       "MSZoning         0\n",
       "LotFrontage      0\n",
       "LotArea          0\n",
       "Street           0\n",
       "                ..\n",
       "MoSold           0\n",
       "YrSold           0\n",
       "SaleType         0\n",
       "SaleCondition    0\n",
       "SalePrice        0\n",
       "Length: 76, dtype: int64"
      ]
     },
     "execution_count": 31,
     "metadata": {},
     "output_type": "execute_result"
    }
   ],
   "source": [
    "data.isnull().sum()"
   ]
  },
  {
   "cell_type": "markdown",
   "metadata": {},
   "source": [
    "### Encode the Dataset"
   ]
  },
  {
   "cell_type": "markdown",
   "metadata": {},
   "source": [
    "**List all non-numeric columns**"
   ]
  },
  {
   "cell_type": "code",
   "execution_count": 32,
   "metadata": {},
   "outputs": [
    {
     "data": {
      "text/plain": [
       "Index(['MSZoning', 'Street', 'LotShape', 'LandContour', 'Utilities',\n",
       "       'LotConfig', 'LandSlope', 'Neighborhood', 'Condition1', 'Condition2',\n",
       "       'BldgType', 'HouseStyle', 'RoofStyle', 'RoofMatl', 'Exterior1st',\n",
       "       'Exterior2nd', 'MasVnrType', 'ExterQual', 'ExterCond', 'Foundation',\n",
       "       'BsmtQual', 'BsmtCond', 'BsmtExposure', 'BsmtFinType1', 'BsmtFinType2',\n",
       "       'Heating', 'HeatingQC', 'CentralAir', 'Electrical', 'KitchenQual',\n",
       "       'Functional', 'FireplaceQu', 'GarageType', 'GarageFinish', 'GarageQual',\n",
       "       'GarageCond', 'PavedDrive', 'SaleType', 'SaleCondition'],\n",
       "      dtype='object')"
      ]
     },
     "execution_count": 32,
     "metadata": {},
     "output_type": "execute_result"
    }
   ],
   "source": [
    "data.select_dtypes(['object']).columns"
   ]
  },
  {
   "cell_type": "markdown",
   "metadata": {},
   "source": [
    "**Extract Categorical Data**"
   ]
  },
  {
   "cell_type": "code",
   "execution_count": 36,
   "metadata": {},
   "outputs": [],
   "source": [
    "categorical_features = list(data.select_dtypes(include=['object']).copy().columns)"
   ]
  },
  {
   "cell_type": "code",
   "execution_count": 37,
   "metadata": {},
   "outputs": [
    {
     "data": {
      "text/plain": [
       "['MSZoning',\n",
       " 'Street',\n",
       " 'LotShape',\n",
       " 'LandContour',\n",
       " 'Utilities',\n",
       " 'LotConfig',\n",
       " 'LandSlope',\n",
       " 'Neighborhood',\n",
       " 'Condition1',\n",
       " 'Condition2',\n",
       " 'BldgType',\n",
       " 'HouseStyle',\n",
       " 'RoofStyle',\n",
       " 'RoofMatl',\n",
       " 'Exterior1st',\n",
       " 'Exterior2nd',\n",
       " 'MasVnrType',\n",
       " 'ExterQual',\n",
       " 'ExterCond',\n",
       " 'Foundation',\n",
       " 'BsmtQual',\n",
       " 'BsmtCond',\n",
       " 'BsmtExposure',\n",
       " 'BsmtFinType1',\n",
       " 'BsmtFinType2',\n",
       " 'Heating',\n",
       " 'HeatingQC',\n",
       " 'CentralAir',\n",
       " 'Electrical',\n",
       " 'KitchenQual',\n",
       " 'Functional',\n",
       " 'FireplaceQu',\n",
       " 'GarageType',\n",
       " 'GarageFinish',\n",
       " 'GarageQual',\n",
       " 'GarageCond',\n",
       " 'PavedDrive',\n",
       " 'SaleType',\n",
       " 'SaleCondition']"
      ]
     },
     "execution_count": 37,
     "metadata": {},
     "output_type": "execute_result"
    }
   ],
   "source": [
    "categorical_features"
   ]
  },
  {
   "cell_type": "code",
   "execution_count": 38,
   "metadata": {},
   "outputs": [
    {
     "data": {
      "text/plain": [
       "39"
      ]
     },
     "execution_count": 38,
     "metadata": {},
     "output_type": "execute_result"
    }
   ],
   "source": [
    "len(categorical_features)"
   ]
  },
  {
   "cell_type": "code",
   "execution_count": 41,
   "metadata": {},
   "outputs": [],
   "source": [
    "nominal=['MSZoning', 'LandContour', 'LotConfig','Neighborhood','RoofStyle','RoofMatl','Exterior1st','Exterior2nd','Foundation','BsmtFinType1','CentralAir']\n",
    "ordinal = list(set(categorical_features)-set(nominal))\n",
    "numerical = list(set(initial_features)-set(categorical_features))\n",
    "target = ['SalePrice']"
   ]
  },
  {
   "cell_type": "code",
   "execution_count": 42,
   "metadata": {},
   "outputs": [
    {
     "data": {
      "text/html": [
       "<div>\n",
       "<style scoped>\n",
       "    .dataframe tbody tr th:only-of-type {\n",
       "        vertical-align: middle;\n",
       "    }\n",
       "\n",
       "    .dataframe tbody tr th {\n",
       "        vertical-align: top;\n",
       "    }\n",
       "\n",
       "    .dataframe thead th {\n",
       "        text-align: right;\n",
       "    }\n",
       "</style>\n",
       "<table border=\"1\" class=\"dataframe\">\n",
       "  <thead>\n",
       "    <tr style=\"text-align: right;\">\n",
       "      <th></th>\n",
       "      <th>WoodDeckSF</th>\n",
       "      <th>TotRmsAbvGrd</th>\n",
       "      <th>LotArea</th>\n",
       "      <th>YearBuilt</th>\n",
       "      <th>GarageArea</th>\n",
       "      <th>2ndFlrSF</th>\n",
       "      <th>KitchenAbvGr</th>\n",
       "      <th>OverallCond</th>\n",
       "      <th>BsmtFullBath</th>\n",
       "      <th>BsmtUnfSF</th>\n",
       "      <th>...</th>\n",
       "      <th>TotalBsmtSF</th>\n",
       "      <th>PoolArea</th>\n",
       "      <th>HalfBath</th>\n",
       "      <th>OpenPorchSF</th>\n",
       "      <th>OverallQual</th>\n",
       "      <th>Fireplaces</th>\n",
       "      <th>LotFrontage</th>\n",
       "      <th>EnclosedPorch</th>\n",
       "      <th>YearRemodAdd</th>\n",
       "      <th>FullBath</th>\n",
       "    </tr>\n",
       "  </thead>\n",
       "  <tbody>\n",
       "    <tr>\n",
       "      <th>0</th>\n",
       "      <td>0</td>\n",
       "      <td>8</td>\n",
       "      <td>8450</td>\n",
       "      <td>2003</td>\n",
       "      <td>548</td>\n",
       "      <td>854</td>\n",
       "      <td>1</td>\n",
       "      <td>5</td>\n",
       "      <td>1</td>\n",
       "      <td>150</td>\n",
       "      <td>...</td>\n",
       "      <td>856</td>\n",
       "      <td>0</td>\n",
       "      <td>1</td>\n",
       "      <td>61</td>\n",
       "      <td>7</td>\n",
       "      <td>0</td>\n",
       "      <td>65.0</td>\n",
       "      <td>0</td>\n",
       "      <td>2003</td>\n",
       "      <td>2</td>\n",
       "    </tr>\n",
       "    <tr>\n",
       "      <th>1</th>\n",
       "      <td>298</td>\n",
       "      <td>6</td>\n",
       "      <td>9600</td>\n",
       "      <td>1976</td>\n",
       "      <td>460</td>\n",
       "      <td>0</td>\n",
       "      <td>1</td>\n",
       "      <td>8</td>\n",
       "      <td>0</td>\n",
       "      <td>284</td>\n",
       "      <td>...</td>\n",
       "      <td>1262</td>\n",
       "      <td>0</td>\n",
       "      <td>0</td>\n",
       "      <td>0</td>\n",
       "      <td>6</td>\n",
       "      <td>1</td>\n",
       "      <td>80.0</td>\n",
       "      <td>0</td>\n",
       "      <td>1976</td>\n",
       "      <td>2</td>\n",
       "    </tr>\n",
       "    <tr>\n",
       "      <th>2</th>\n",
       "      <td>0</td>\n",
       "      <td>6</td>\n",
       "      <td>11250</td>\n",
       "      <td>2001</td>\n",
       "      <td>608</td>\n",
       "      <td>866</td>\n",
       "      <td>1</td>\n",
       "      <td>5</td>\n",
       "      <td>1</td>\n",
       "      <td>434</td>\n",
       "      <td>...</td>\n",
       "      <td>920</td>\n",
       "      <td>0</td>\n",
       "      <td>1</td>\n",
       "      <td>42</td>\n",
       "      <td>7</td>\n",
       "      <td>1</td>\n",
       "      <td>68.0</td>\n",
       "      <td>0</td>\n",
       "      <td>2002</td>\n",
       "      <td>2</td>\n",
       "    </tr>\n",
       "    <tr>\n",
       "      <th>3</th>\n",
       "      <td>0</td>\n",
       "      <td>7</td>\n",
       "      <td>9550</td>\n",
       "      <td>1915</td>\n",
       "      <td>642</td>\n",
       "      <td>756</td>\n",
       "      <td>1</td>\n",
       "      <td>5</td>\n",
       "      <td>1</td>\n",
       "      <td>540</td>\n",
       "      <td>...</td>\n",
       "      <td>756</td>\n",
       "      <td>0</td>\n",
       "      <td>0</td>\n",
       "      <td>35</td>\n",
       "      <td>7</td>\n",
       "      <td>1</td>\n",
       "      <td>60.0</td>\n",
       "      <td>272</td>\n",
       "      <td>1970</td>\n",
       "      <td>1</td>\n",
       "    </tr>\n",
       "    <tr>\n",
       "      <th>4</th>\n",
       "      <td>192</td>\n",
       "      <td>9</td>\n",
       "      <td>14260</td>\n",
       "      <td>2000</td>\n",
       "      <td>836</td>\n",
       "      <td>1053</td>\n",
       "      <td>1</td>\n",
       "      <td>5</td>\n",
       "      <td>1</td>\n",
       "      <td>490</td>\n",
       "      <td>...</td>\n",
       "      <td>1145</td>\n",
       "      <td>0</td>\n",
       "      <td>1</td>\n",
       "      <td>84</td>\n",
       "      <td>8</td>\n",
       "      <td>1</td>\n",
       "      <td>84.0</td>\n",
       "      <td>0</td>\n",
       "      <td>2000</td>\n",
       "      <td>2</td>\n",
       "    </tr>\n",
       "    <tr>\n",
       "      <th>...</th>\n",
       "      <td>...</td>\n",
       "      <td>...</td>\n",
       "      <td>...</td>\n",
       "      <td>...</td>\n",
       "      <td>...</td>\n",
       "      <td>...</td>\n",
       "      <td>...</td>\n",
       "      <td>...</td>\n",
       "      <td>...</td>\n",
       "      <td>...</td>\n",
       "      <td>...</td>\n",
       "      <td>...</td>\n",
       "      <td>...</td>\n",
       "      <td>...</td>\n",
       "      <td>...</td>\n",
       "      <td>...</td>\n",
       "      <td>...</td>\n",
       "      <td>...</td>\n",
       "      <td>...</td>\n",
       "      <td>...</td>\n",
       "      <td>...</td>\n",
       "    </tr>\n",
       "    <tr>\n",
       "      <th>1455</th>\n",
       "      <td>0</td>\n",
       "      <td>7</td>\n",
       "      <td>7917</td>\n",
       "      <td>1999</td>\n",
       "      <td>460</td>\n",
       "      <td>694</td>\n",
       "      <td>1</td>\n",
       "      <td>5</td>\n",
       "      <td>0</td>\n",
       "      <td>953</td>\n",
       "      <td>...</td>\n",
       "      <td>953</td>\n",
       "      <td>0</td>\n",
       "      <td>1</td>\n",
       "      <td>40</td>\n",
       "      <td>6</td>\n",
       "      <td>1</td>\n",
       "      <td>62.0</td>\n",
       "      <td>0</td>\n",
       "      <td>2000</td>\n",
       "      <td>2</td>\n",
       "    </tr>\n",
       "    <tr>\n",
       "      <th>1456</th>\n",
       "      <td>349</td>\n",
       "      <td>7</td>\n",
       "      <td>13175</td>\n",
       "      <td>1978</td>\n",
       "      <td>500</td>\n",
       "      <td>0</td>\n",
       "      <td>1</td>\n",
       "      <td>6</td>\n",
       "      <td>1</td>\n",
       "      <td>589</td>\n",
       "      <td>...</td>\n",
       "      <td>1542</td>\n",
       "      <td>0</td>\n",
       "      <td>0</td>\n",
       "      <td>0</td>\n",
       "      <td>6</td>\n",
       "      <td>2</td>\n",
       "      <td>85.0</td>\n",
       "      <td>0</td>\n",
       "      <td>1988</td>\n",
       "      <td>2</td>\n",
       "    </tr>\n",
       "    <tr>\n",
       "      <th>1457</th>\n",
       "      <td>0</td>\n",
       "      <td>9</td>\n",
       "      <td>9042</td>\n",
       "      <td>1941</td>\n",
       "      <td>252</td>\n",
       "      <td>1152</td>\n",
       "      <td>1</td>\n",
       "      <td>9</td>\n",
       "      <td>0</td>\n",
       "      <td>877</td>\n",
       "      <td>...</td>\n",
       "      <td>1152</td>\n",
       "      <td>0</td>\n",
       "      <td>0</td>\n",
       "      <td>60</td>\n",
       "      <td>7</td>\n",
       "      <td>2</td>\n",
       "      <td>66.0</td>\n",
       "      <td>0</td>\n",
       "      <td>2006</td>\n",
       "      <td>2</td>\n",
       "    </tr>\n",
       "    <tr>\n",
       "      <th>1458</th>\n",
       "      <td>366</td>\n",
       "      <td>5</td>\n",
       "      <td>9717</td>\n",
       "      <td>1950</td>\n",
       "      <td>240</td>\n",
       "      <td>0</td>\n",
       "      <td>1</td>\n",
       "      <td>6</td>\n",
       "      <td>1</td>\n",
       "      <td>0</td>\n",
       "      <td>...</td>\n",
       "      <td>1078</td>\n",
       "      <td>0</td>\n",
       "      <td>0</td>\n",
       "      <td>0</td>\n",
       "      <td>5</td>\n",
       "      <td>0</td>\n",
       "      <td>68.0</td>\n",
       "      <td>112</td>\n",
       "      <td>1996</td>\n",
       "      <td>1</td>\n",
       "    </tr>\n",
       "    <tr>\n",
       "      <th>1459</th>\n",
       "      <td>736</td>\n",
       "      <td>6</td>\n",
       "      <td>9937</td>\n",
       "      <td>1965</td>\n",
       "      <td>276</td>\n",
       "      <td>0</td>\n",
       "      <td>1</td>\n",
       "      <td>6</td>\n",
       "      <td>1</td>\n",
       "      <td>136</td>\n",
       "      <td>...</td>\n",
       "      <td>1256</td>\n",
       "      <td>0</td>\n",
       "      <td>1</td>\n",
       "      <td>68</td>\n",
       "      <td>5</td>\n",
       "      <td>0</td>\n",
       "      <td>75.0</td>\n",
       "      <td>0</td>\n",
       "      <td>1965</td>\n",
       "      <td>1</td>\n",
       "    </tr>\n",
       "  </tbody>\n",
       "</table>\n",
       "<p>1460 rows × 37 columns</p>\n",
       "</div>"
      ],
      "text/plain": [
       "      WoodDeckSF  TotRmsAbvGrd  LotArea  YearBuilt  GarageArea  2ndFlrSF  \\\n",
       "0              0             8     8450       2003         548       854   \n",
       "1            298             6     9600       1976         460         0   \n",
       "2              0             6    11250       2001         608       866   \n",
       "3              0             7     9550       1915         642       756   \n",
       "4            192             9    14260       2000         836      1053   \n",
       "...          ...           ...      ...        ...         ...       ...   \n",
       "1455           0             7     7917       1999         460       694   \n",
       "1456         349             7    13175       1978         500         0   \n",
       "1457           0             9     9042       1941         252      1152   \n",
       "1458         366             5     9717       1950         240         0   \n",
       "1459         736             6     9937       1965         276         0   \n",
       "\n",
       "      KitchenAbvGr  OverallCond  BsmtFullBath  BsmtUnfSF  ...  TotalBsmtSF  \\\n",
       "0                1            5             1        150  ...          856   \n",
       "1                1            8             0        284  ...         1262   \n",
       "2                1            5             1        434  ...          920   \n",
       "3                1            5             1        540  ...          756   \n",
       "4                1            5             1        490  ...         1145   \n",
       "...            ...          ...           ...        ...  ...          ...   \n",
       "1455             1            5             0        953  ...          953   \n",
       "1456             1            6             1        589  ...         1542   \n",
       "1457             1            9             0        877  ...         1152   \n",
       "1458             1            6             1          0  ...         1078   \n",
       "1459             1            6             1        136  ...         1256   \n",
       "\n",
       "      PoolArea  HalfBath  OpenPorchSF  OverallQual  Fireplaces  LotFrontage  \\\n",
       "0            0         1           61            7           0         65.0   \n",
       "1            0         0            0            6           1         80.0   \n",
       "2            0         1           42            7           1         68.0   \n",
       "3            0         0           35            7           1         60.0   \n",
       "4            0         1           84            8           1         84.0   \n",
       "...        ...       ...          ...          ...         ...          ...   \n",
       "1455         0         1           40            6           1         62.0   \n",
       "1456         0         0            0            6           2         85.0   \n",
       "1457         0         0           60            7           2         66.0   \n",
       "1458         0         0            0            5           0         68.0   \n",
       "1459         0         1           68            5           0         75.0   \n",
       "\n",
       "      EnclosedPorch  YearRemodAdd  FullBath  \n",
       "0                 0          2003         2  \n",
       "1                 0          1976         2  \n",
       "2                 0          2002         2  \n",
       "3               272          1970         1  \n",
       "4                 0          2000         2  \n",
       "...             ...           ...       ...  \n",
       "1455              0          2000         2  \n",
       "1456              0          1988         2  \n",
       "1457              0          2006         2  \n",
       "1458            112          1996         1  \n",
       "1459              0          1965         1  \n",
       "\n",
       "[1460 rows x 37 columns]"
      ]
     },
     "execution_count": 42,
     "metadata": {},
     "output_type": "execute_result"
    }
   ],
   "source": [
    "data[numerical]"
   ]
  },
  {
   "cell_type": "code",
   "execution_count": 43,
   "metadata": {},
   "outputs": [
    {
     "data": {
      "text/plain": [
       "37"
      ]
     },
     "execution_count": 43,
     "metadata": {},
     "output_type": "execute_result"
    }
   ],
   "source": [
    "len(numerical)"
   ]
  },
  {
   "cell_type": "markdown",
   "metadata": {},
   "source": [
    "**Integer Encoding for Ordinals**"
   ]
  },
  {
   "cell_type": "code",
   "execution_count": 44,
   "metadata": {},
   "outputs": [],
   "source": [
    "for f in ordinal:\n",
    "    data[f] = (data[f].astype('category')).cat.codes"
   ]
  },
  {
   "cell_type": "code",
   "execution_count": 45,
   "metadata": {},
   "outputs": [],
   "source": [
    "df_ordinals = data[ordinal]"
   ]
  },
  {
   "cell_type": "markdown",
   "metadata": {},
   "source": [
    "**One Hot Encoding for Nominals**"
   ]
  },
  {
   "cell_type": "code",
   "execution_count": 46,
   "metadata": {},
   "outputs": [],
   "source": [
    "df_nominals = pd.get_dummies(data[nominal])"
   ]
  },
  {
   "cell_type": "markdown",
   "metadata": {},
   "source": [
    "**Assemble the encoded data**"
   ]
  },
  {
   "cell_type": "code",
   "execution_count": 47,
   "metadata": {},
   "outputs": [],
   "source": [
    "df_numerals = data[numerical]"
   ]
  },
  {
   "cell_type": "code",
   "execution_count": 49,
   "metadata": {},
   "outputs": [],
   "source": [
    "enc_data = pd.concat([df_numerals, df_nominals, df_ordinals], axis=1)"
   ]
  },
  {
   "cell_type": "code",
   "execution_count": 64,
   "metadata": {},
   "outputs": [
    {
     "data": {
      "text/html": [
       "<div>\n",
       "<style scoped>\n",
       "    .dataframe tbody tr th:only-of-type {\n",
       "        vertical-align: middle;\n",
       "    }\n",
       "\n",
       "    .dataframe tbody tr th {\n",
       "        vertical-align: top;\n",
       "    }\n",
       "\n",
       "    .dataframe thead th {\n",
       "        text-align: right;\n",
       "    }\n",
       "</style>\n",
       "<table border=\"1\" class=\"dataframe\">\n",
       "  <thead>\n",
       "    <tr style=\"text-align: right;\">\n",
       "      <th></th>\n",
       "      <th>WoodDeckSF</th>\n",
       "      <th>TotRmsAbvGrd</th>\n",
       "      <th>LotArea</th>\n",
       "      <th>YearBuilt</th>\n",
       "      <th>GarageArea</th>\n",
       "      <th>2ndFlrSF</th>\n",
       "      <th>KitchenAbvGr</th>\n",
       "      <th>OverallCond</th>\n",
       "      <th>BsmtFullBath</th>\n",
       "      <th>BsmtUnfSF</th>\n",
       "      <th>...</th>\n",
       "      <th>LotShape</th>\n",
       "      <th>ExterQual</th>\n",
       "      <th>BsmtQual</th>\n",
       "      <th>ExterCond</th>\n",
       "      <th>FireplaceQu</th>\n",
       "      <th>HeatingQC</th>\n",
       "      <th>MasVnrType</th>\n",
       "      <th>BsmtCond</th>\n",
       "      <th>LandSlope</th>\n",
       "      <th>BldgType</th>\n",
       "    </tr>\n",
       "  </thead>\n",
       "  <tbody>\n",
       "    <tr>\n",
       "      <th>0</th>\n",
       "      <td>0</td>\n",
       "      <td>8</td>\n",
       "      <td>8450</td>\n",
       "      <td>2003</td>\n",
       "      <td>548</td>\n",
       "      <td>854</td>\n",
       "      <td>1</td>\n",
       "      <td>5</td>\n",
       "      <td>1</td>\n",
       "      <td>150</td>\n",
       "      <td>...</td>\n",
       "      <td>3</td>\n",
       "      <td>2</td>\n",
       "      <td>2</td>\n",
       "      <td>4</td>\n",
       "      <td>4</td>\n",
       "      <td>0</td>\n",
       "      <td>1</td>\n",
       "      <td>3</td>\n",
       "      <td>0</td>\n",
       "      <td>0</td>\n",
       "    </tr>\n",
       "    <tr>\n",
       "      <th>1</th>\n",
       "      <td>298</td>\n",
       "      <td>6</td>\n",
       "      <td>9600</td>\n",
       "      <td>1976</td>\n",
       "      <td>460</td>\n",
       "      <td>0</td>\n",
       "      <td>1</td>\n",
       "      <td>8</td>\n",
       "      <td>0</td>\n",
       "      <td>284</td>\n",
       "      <td>...</td>\n",
       "      <td>3</td>\n",
       "      <td>3</td>\n",
       "      <td>2</td>\n",
       "      <td>4</td>\n",
       "      <td>4</td>\n",
       "      <td>0</td>\n",
       "      <td>2</td>\n",
       "      <td>3</td>\n",
       "      <td>0</td>\n",
       "      <td>0</td>\n",
       "    </tr>\n",
       "    <tr>\n",
       "      <th>2</th>\n",
       "      <td>0</td>\n",
       "      <td>6</td>\n",
       "      <td>11250</td>\n",
       "      <td>2001</td>\n",
       "      <td>608</td>\n",
       "      <td>866</td>\n",
       "      <td>1</td>\n",
       "      <td>5</td>\n",
       "      <td>1</td>\n",
       "      <td>434</td>\n",
       "      <td>...</td>\n",
       "      <td>0</td>\n",
       "      <td>2</td>\n",
       "      <td>2</td>\n",
       "      <td>4</td>\n",
       "      <td>4</td>\n",
       "      <td>0</td>\n",
       "      <td>1</td>\n",
       "      <td>3</td>\n",
       "      <td>0</td>\n",
       "      <td>0</td>\n",
       "    </tr>\n",
       "  </tbody>\n",
       "</table>\n",
       "<p>3 rows × 163 columns</p>\n",
       "</div>"
      ],
      "text/plain": [
       "   WoodDeckSF  TotRmsAbvGrd  LotArea  YearBuilt  GarageArea  2ndFlrSF  \\\n",
       "0           0             8     8450       2003         548       854   \n",
       "1         298             6     9600       1976         460         0   \n",
       "2           0             6    11250       2001         608       866   \n",
       "\n",
       "   KitchenAbvGr  OverallCond  BsmtFullBath  BsmtUnfSF  ...  LotShape  \\\n",
       "0             1            5             1        150  ...         3   \n",
       "1             1            8             0        284  ...         3   \n",
       "2             1            5             1        434  ...         0   \n",
       "\n",
       "   ExterQual  BsmtQual  ExterCond  FireplaceQu  HeatingQC  MasVnrType  \\\n",
       "0          2         2          4            4          0           1   \n",
       "1          3         2          4            4          0           2   \n",
       "2          2         2          4            4          0           1   \n",
       "\n",
       "   BsmtCond  LandSlope  BldgType  \n",
       "0         3          0         0  \n",
       "1         3          0         0  \n",
       "2         3          0         0  \n",
       "\n",
       "[3 rows x 163 columns]"
      ]
     },
     "execution_count": 64,
     "metadata": {},
     "output_type": "execute_result"
    }
   ],
   "source": [
    "enc_data.head(3)"
   ]
  },
  {
   "cell_type": "markdown",
   "metadata": {},
   "source": [
    "### Standardize the dataset"
   ]
  },
  {
   "cell_type": "code",
   "execution_count": 52,
   "metadata": {},
   "outputs": [],
   "source": [
    "scaler = StandardScaler()"
   ]
  },
  {
   "cell_type": "markdown",
   "metadata": {},
   "source": [
    "**Separate the target from the features**"
   ]
  },
  {
   "cell_type": "code",
   "execution_count": 74,
   "metadata": {},
   "outputs": [],
   "source": [
    "df_X = enc_data.drop('SalePrice', axis=1)\n",
    "X = np.array(df_X)"
   ]
  },
  {
   "cell_type": "code",
   "execution_count": 75,
   "metadata": {},
   "outputs": [],
   "source": [
    "df_y = data[target]\n",
    "y = np.array(df_y)"
   ]
  },
  {
   "cell_type": "code",
   "execution_count": 62,
   "metadata": {},
   "outputs": [
    {
     "data": {
      "text/plain": [
       "(1460, 162)"
      ]
     },
     "execution_count": 62,
     "metadata": {},
     "output_type": "execute_result"
    }
   ],
   "source": [
    "X.shape"
   ]
  },
  {
   "cell_type": "code",
   "execution_count": 63,
   "metadata": {},
   "outputs": [
    {
     "data": {
      "text/plain": [
       "(1460, 1)"
      ]
     },
     "execution_count": 63,
     "metadata": {},
     "output_type": "execute_result"
    }
   ],
   "source": [
    "y.shape"
   ]
  },
  {
   "cell_type": "code",
   "execution_count": 120,
   "metadata": {},
   "outputs": [],
   "source": [
    "X=scaler.fit_transform(X)\n",
    "y=scaler.fit_transform(y)"
   ]
  },
  {
   "cell_type": "markdown",
   "metadata": {},
   "source": [
    "### Feature Selection using L1"
   ]
  },
  {
   "cell_type": "code",
   "execution_count": 121,
   "metadata": {},
   "outputs": [
    {
     "name": "stderr",
     "output_type": "stream",
     "text": [
      "/home/john/anaconda3/lib/python3.8/site-packages/sklearn/utils/validation.py:73: DataConversionWarning: A column-vector y was passed when a 1d array was expected. Please change the shape of y to (n_samples, ), for example using ravel().\n",
      "  return f(**kwargs)\n"
     ]
    },
    {
     "data": {
      "text/plain": [
       "LassoCV()"
      ]
     },
     "execution_count": 121,
     "metadata": {},
     "output_type": "execute_result"
    }
   ],
   "source": [
    "regressor = LassoCV()\n",
    "regressor.fit(X,y)"
   ]
  },
  {
   "cell_type": "code",
   "execution_count": 122,
   "metadata": {
    "scrolled": true
   },
   "outputs": [
    {
     "name": "stdout",
     "output_type": "stream",
     "text": [
      "L1 selected only  77  features out of  162  from the transformed dataset \n"
     ]
    },
    {
     "data": {
      "text/plain": [
       "Text(0.5, 1.0, 'Feature Selection Using L1 Embedder')"
      ]
     },
     "execution_count": 122,
     "metadata": {},
     "output_type": "execute_result"
    },
    {
     "data": {
      "image/png": "[encoded data removed]",
      "text/plain": [
       "<Figure size 720x504 with 1 Axes>"
      ]
     },
     "metadata": {
      "needs_background": "light"
     },
     "output_type": "display_data"
    }
   ],
   "source": [
    "#print(regressor.coef_)\n",
    "coef_col = pd.Series(regressor.coef_,index=df_X.columns)\n",
    "\n",
    "#print(coef_col)\n",
    "sorted_coef = coef_col.sort_values()\n",
    "plt.rcParams['figure.figsize']=(10.0,7.0)\n",
    "sorted_coef.plot(kind=\"barh\")\n",
    "\n",
    "no_of_selected_features = sum(coef_col != 0)\n",
    "no_of_rejected_features = sum(coef_col == 0)\n",
    "total_features = no_of_selected_features + no_of_rejected_features\n",
    "print(\"L1 selected only \",no_of_selected_features,\" features out of \",total_features,\" from the transformed dataset \")\n",
    "plt.title(\"Feature Selection Using L1 Embedder\")"
   ]
  },
  {
   "cell_type": "markdown",
   "metadata": {},
   "source": [
    "**Retrieve the selected features**"
   ]
  },
  {
   "cell_type": "code",
   "execution_count": 123,
   "metadata": {
    "scrolled": true
   },
   "outputs": [
    {
     "data": {
      "text/plain": [
       "['WoodDeckSF',\n",
       " 'TotRmsAbvGrd',\n",
       " 'LotArea',\n",
       " 'YearBuilt',\n",
       " 'GarageArea',\n",
       " 'KitchenAbvGr',\n",
       " 'OverallCond',\n",
       " 'BsmtFullBath',\n",
       " 'ScreenPorch',\n",
       " 'LowQualFinSF',\n",
       " 'MasVnrArea',\n",
       " 'MSSubClass',\n",
       " 'GrLivArea',\n",
       " 'BedroomAbvGr',\n",
       " 'BsmtFinSF2',\n",
       " 'BsmtFinSF1',\n",
       " 'YrSold',\n",
       " 'GarageCars',\n",
       " 'MoSold',\n",
       " 'TotalBsmtSF',\n",
       " 'PoolArea',\n",
       " 'OverallQual',\n",
       " 'Fireplaces',\n",
       " 'LotFrontage',\n",
       " 'YearRemodAdd',\n",
       " 'FullBath',\n",
       " 'MSZoning_C (all)',\n",
       " 'MSZoning_FV',\n",
       " 'LandContour_Bnk',\n",
       " 'LandContour_HLS',\n",
       " 'LotConfig_CulDSac',\n",
       " 'LotConfig_FR2',\n",
       " 'LotConfig_FR3',\n",
       " 'Neighborhood_BrkSide',\n",
       " 'Neighborhood_Crawfor',\n",
       " 'Neighborhood_Edwards',\n",
       " 'Neighborhood_Mitchel',\n",
       " 'Neighborhood_NPkVill',\n",
       " 'Neighborhood_NWAmes',\n",
       " 'Neighborhood_NoRidge',\n",
       " 'Neighborhood_NridgHt',\n",
       " 'Neighborhood_OldTown',\n",
       " 'Neighborhood_Somerst',\n",
       " 'Neighborhood_StoneBr',\n",
       " 'Neighborhood_Veenker',\n",
       " 'RoofStyle_Gable',\n",
       " 'RoofMatl_ClyTile',\n",
       " 'RoofMatl_Membran',\n",
       " 'RoofMatl_Tar&Grv',\n",
       " 'RoofMatl_WdShngl',\n",
       " 'Exterior1st_BrkFace',\n",
       " 'Exterior1st_HdBoard',\n",
       " 'Exterior1st_ImStucc',\n",
       " 'Exterior1st_Plywood',\n",
       " 'Exterior2nd_ImStucc',\n",
       " 'Exterior2nd_Wd Shng',\n",
       " 'Foundation_BrkTil',\n",
       " 'Foundation_Wood',\n",
       " 'BsmtFinType1_GLQ',\n",
       " 'BsmtFinType1_LwQ',\n",
       " 'Functional',\n",
       " 'Condition2',\n",
       " 'Street',\n",
       " 'Utilities',\n",
       " 'KitchenQual',\n",
       " 'GarageFinish',\n",
       " 'GarageCond',\n",
       " 'SaleType',\n",
       " 'SaleCondition',\n",
       " 'BsmtExposure',\n",
       " 'ExterQual',\n",
       " 'BsmtQual',\n",
       " 'FireplaceQu',\n",
       " 'HeatingQC',\n",
       " 'MasVnrType',\n",
       " 'BsmtCond',\n",
       " 'BldgType']"
      ]
     },
     "execution_count": 123,
     "metadata": {},
     "output_type": "execute_result"
    }
   ],
   "source": [
    "selected_features_list = []\n",
    "for label, value in zip(coef_col.index, coef_col.values):\n",
    "    if value != 0:\n",
    "        selected_features_list.append(label)\n",
    "\n",
    "selected_features_list"
   ]
  },
  {
   "cell_type": "code",
   "execution_count": 124,
   "metadata": {},
   "outputs": [],
   "source": [
    "standardized_df = pd.DataFrame(X, columns=df_X.columns)"
   ]
  },
  {
   "cell_type": "code",
   "execution_count": 184,
   "metadata": {
    "scrolled": true
   },
   "outputs": [
    {
     "data": {
      "text/html": [
       "<div>\n",
       "<style scoped>\n",
       "    .dataframe tbody tr th:only-of-type {\n",
       "        vertical-align: middle;\n",
       "    }\n",
       "\n",
       "    .dataframe tbody tr th {\n",
       "        vertical-align: top;\n",
       "    }\n",
       "\n",
       "    .dataframe thead th {\n",
       "        text-align: right;\n",
       "    }\n",
       "</style>\n",
       "<table border=\"1\" class=\"dataframe\">\n",
       "  <thead>\n",
       "    <tr style=\"text-align: right;\">\n",
       "      <th></th>\n",
       "      <th>WoodDeckSF</th>\n",
       "      <th>TotRmsAbvGrd</th>\n",
       "      <th>LotArea</th>\n",
       "      <th>YearBuilt</th>\n",
       "      <th>GarageArea</th>\n",
       "      <th>KitchenAbvGr</th>\n",
       "      <th>OverallCond</th>\n",
       "      <th>BsmtFullBath</th>\n",
       "      <th>ScreenPorch</th>\n",
       "      <th>LowQualFinSF</th>\n",
       "      <th>...</th>\n",
       "      <th>SaleType</th>\n",
       "      <th>SaleCondition</th>\n",
       "      <th>BsmtExposure</th>\n",
       "      <th>ExterQual</th>\n",
       "      <th>BsmtQual</th>\n",
       "      <th>FireplaceQu</th>\n",
       "      <th>HeatingQC</th>\n",
       "      <th>MasVnrType</th>\n",
       "      <th>BsmtCond</th>\n",
       "      <th>BldgType</th>\n",
       "    </tr>\n",
       "  </thead>\n",
       "  <tbody>\n",
       "    <tr>\n",
       "      <th>0</th>\n",
       "      <td>-0.752176</td>\n",
       "      <td>0.912210</td>\n",
       "      <td>-0.207142</td>\n",
       "      <td>1.050994</td>\n",
       "      <td>0.351000</td>\n",
       "      <td>-0.211454</td>\n",
       "      <td>-0.517200</td>\n",
       "      <td>1.107810</td>\n",
       "      <td>-0.270208</td>\n",
       "      <td>-0.120242</td>\n",
       "      <td>...</td>\n",
       "      <td>0.313867</td>\n",
       "      <td>0.208502</td>\n",
       "      <td>0.638078</td>\n",
       "      <td>-0.777976</td>\n",
       "      <td>-0.299527</td>\n",
       "      <td>1.115711</td>\n",
       "      <td>-0.884658</td>\n",
       "      <td>-1.236344</td>\n",
       "      <td>0.286468</td>\n",
       "      <td>-0.411691</td>\n",
       "    </tr>\n",
       "    <tr>\n",
       "      <th>1</th>\n",
       "      <td>1.626195</td>\n",
       "      <td>-0.318683</td>\n",
       "      <td>-0.091886</td>\n",
       "      <td>0.156734</td>\n",
       "      <td>-0.060731</td>\n",
       "      <td>-0.211454</td>\n",
       "      <td>2.179628</td>\n",
       "      <td>-0.819964</td>\n",
       "      <td>-0.270208</td>\n",
       "      <td>-0.120242</td>\n",
       "      <td>...</td>\n",
       "      <td>0.313867</td>\n",
       "      <td>0.208502</td>\n",
       "      <td>-1.109753</td>\n",
       "      <td>0.663451</td>\n",
       "      <td>-0.299527</td>\n",
       "      <td>1.115711</td>\n",
       "      <td>-0.884658</td>\n",
       "      <td>0.389838</td>\n",
       "      <td>0.286468</td>\n",
       "      <td>-0.411691</td>\n",
       "    </tr>\n",
       "    <tr>\n",
       "      <th>2</th>\n",
       "      <td>-0.752176</td>\n",
       "      <td>-0.318683</td>\n",
       "      <td>0.073480</td>\n",
       "      <td>0.984752</td>\n",
       "      <td>0.631726</td>\n",
       "      <td>-0.211454</td>\n",
       "      <td>-0.517200</td>\n",
       "      <td>1.107810</td>\n",
       "      <td>-0.270208</td>\n",
       "      <td>-0.120242</td>\n",
       "      <td>...</td>\n",
       "      <td>0.313867</td>\n",
       "      <td>0.208502</td>\n",
       "      <td>-0.235838</td>\n",
       "      <td>-0.777976</td>\n",
       "      <td>-0.299527</td>\n",
       "      <td>1.115711</td>\n",
       "      <td>-0.884658</td>\n",
       "      <td>-1.236344</td>\n",
       "      <td>0.286468</td>\n",
       "      <td>-0.411691</td>\n",
       "    </tr>\n",
       "    <tr>\n",
       "      <th>3</th>\n",
       "      <td>-0.752176</td>\n",
       "      <td>0.296763</td>\n",
       "      <td>-0.096897</td>\n",
       "      <td>-1.863632</td>\n",
       "      <td>0.790804</td>\n",
       "      <td>-0.211454</td>\n",
       "      <td>-0.517200</td>\n",
       "      <td>1.107810</td>\n",
       "      <td>-0.270208</td>\n",
       "      <td>-0.120242</td>\n",
       "      <td>...</td>\n",
       "      <td>0.313867</td>\n",
       "      <td>-3.426284</td>\n",
       "      <td>0.638078</td>\n",
       "      <td>0.663451</td>\n",
       "      <td>0.854323</td>\n",
       "      <td>-0.628334</td>\n",
       "      <td>0.265476</td>\n",
       "      <td>0.389838</td>\n",
       "      <td>-2.711695</td>\n",
       "      <td>-0.411691</td>\n",
       "    </tr>\n",
       "    <tr>\n",
       "      <th>4</th>\n",
       "      <td>0.780197</td>\n",
       "      <td>1.527656</td>\n",
       "      <td>0.375148</td>\n",
       "      <td>0.951632</td>\n",
       "      <td>1.698485</td>\n",
       "      <td>-0.211454</td>\n",
       "      <td>-0.517200</td>\n",
       "      <td>1.107810</td>\n",
       "      <td>-0.270208</td>\n",
       "      <td>-0.120242</td>\n",
       "      <td>...</td>\n",
       "      <td>0.313867</td>\n",
       "      <td>0.208502</td>\n",
       "      <td>-1.983669</td>\n",
       "      <td>-0.777976</td>\n",
       "      <td>-0.299527</td>\n",
       "      <td>1.115711</td>\n",
       "      <td>-0.884658</td>\n",
       "      <td>-1.236344</td>\n",
       "      <td>0.286468</td>\n",
       "      <td>-0.411691</td>\n",
       "    </tr>\n",
       "    <tr>\n",
       "      <th>...</th>\n",
       "      <td>...</td>\n",
       "      <td>...</td>\n",
       "      <td>...</td>\n",
       "      <td>...</td>\n",
       "      <td>...</td>\n",
       "      <td>...</td>\n",
       "      <td>...</td>\n",
       "      <td>...</td>\n",
       "      <td>...</td>\n",
       "      <td>...</td>\n",
       "      <td>...</td>\n",
       "      <td>...</td>\n",
       "      <td>...</td>\n",
       "      <td>...</td>\n",
       "      <td>...</td>\n",
       "      <td>...</td>\n",
       "      <td>...</td>\n",
       "      <td>...</td>\n",
       "      <td>...</td>\n",
       "      <td>...</td>\n",
       "      <td>...</td>\n",
       "    </tr>\n",
       "    <tr>\n",
       "      <th>1455</th>\n",
       "      <td>-0.752176</td>\n",
       "      <td>0.296763</td>\n",
       "      <td>-0.260560</td>\n",
       "      <td>0.918511</td>\n",
       "      <td>-0.060731</td>\n",
       "      <td>-0.211454</td>\n",
       "      <td>-0.517200</td>\n",
       "      <td>-0.819964</td>\n",
       "      <td>-0.270208</td>\n",
       "      <td>-0.120242</td>\n",
       "      <td>...</td>\n",
       "      <td>0.313867</td>\n",
       "      <td>0.208502</td>\n",
       "      <td>0.638078</td>\n",
       "      <td>0.663451</td>\n",
       "      <td>-0.299527</td>\n",
       "      <td>1.115711</td>\n",
       "      <td>-0.884658</td>\n",
       "      <td>0.389838</td>\n",
       "      <td>0.286468</td>\n",
       "      <td>-0.411691</td>\n",
       "    </tr>\n",
       "    <tr>\n",
       "      <th>1456</th>\n",
       "      <td>2.033231</td>\n",
       "      <td>0.296763</td>\n",
       "      <td>0.266407</td>\n",
       "      <td>0.222975</td>\n",
       "      <td>0.126420</td>\n",
       "      <td>-0.211454</td>\n",
       "      <td>0.381743</td>\n",
       "      <td>1.107810</td>\n",
       "      <td>-0.270208</td>\n",
       "      <td>-0.120242</td>\n",
       "      <td>...</td>\n",
       "      <td>0.313867</td>\n",
       "      <td>0.208502</td>\n",
       "      <td>0.638078</td>\n",
       "      <td>0.663451</td>\n",
       "      <td>-0.299527</td>\n",
       "      <td>1.115711</td>\n",
       "      <td>1.415610</td>\n",
       "      <td>2.016020</td>\n",
       "      <td>0.286468</td>\n",
       "      <td>-0.411691</td>\n",
       "    </tr>\n",
       "    <tr>\n",
       "      <th>1457</th>\n",
       "      <td>-0.752176</td>\n",
       "      <td>1.527656</td>\n",
       "      <td>-0.147810</td>\n",
       "      <td>-1.002492</td>\n",
       "      <td>-1.033914</td>\n",
       "      <td>-0.211454</td>\n",
       "      <td>3.078570</td>\n",
       "      <td>-0.819964</td>\n",
       "      <td>-0.270208</td>\n",
       "      <td>-0.120242</td>\n",
       "      <td>...</td>\n",
       "      <td>0.313867</td>\n",
       "      <td>0.208502</td>\n",
       "      <td>0.638078</td>\n",
       "      <td>-3.660830</td>\n",
       "      <td>0.854323</td>\n",
       "      <td>-0.628334</td>\n",
       "      <td>-0.884658</td>\n",
       "      <td>0.389838</td>\n",
       "      <td>-2.711695</td>\n",
       "      <td>-0.411691</td>\n",
       "    </tr>\n",
       "    <tr>\n",
       "      <th>1458</th>\n",
       "      <td>2.168910</td>\n",
       "      <td>-0.934130</td>\n",
       "      <td>-0.080160</td>\n",
       "      <td>-0.704406</td>\n",
       "      <td>-1.090059</td>\n",
       "      <td>-0.211454</td>\n",
       "      <td>0.381743</td>\n",
       "      <td>1.107810</td>\n",
       "      <td>-0.270208</td>\n",
       "      <td>-0.120242</td>\n",
       "      <td>...</td>\n",
       "      <td>0.313867</td>\n",
       "      <td>0.208502</td>\n",
       "      <td>-0.235838</td>\n",
       "      <td>0.663451</td>\n",
       "      <td>0.854323</td>\n",
       "      <td>-3.244401</td>\n",
       "      <td>0.265476</td>\n",
       "      <td>0.389838</td>\n",
       "      <td>0.286468</td>\n",
       "      <td>-0.411691</td>\n",
       "    </tr>\n",
       "    <tr>\n",
       "      <th>1459</th>\n",
       "      <td>5.121921</td>\n",
       "      <td>-0.318683</td>\n",
       "      <td>-0.058112</td>\n",
       "      <td>-0.207594</td>\n",
       "      <td>-0.921624</td>\n",
       "      <td>-0.211454</td>\n",
       "      <td>0.381743</td>\n",
       "      <td>1.107810</td>\n",
       "      <td>-0.270208</td>\n",
       "      <td>-0.120242</td>\n",
       "      <td>...</td>\n",
       "      <td>0.313867</td>\n",
       "      <td>0.208502</td>\n",
       "      <td>0.638078</td>\n",
       "      <td>-0.777976</td>\n",
       "      <td>0.854323</td>\n",
       "      <td>-3.244401</td>\n",
       "      <td>0.265476</td>\n",
       "      <td>0.389838</td>\n",
       "      <td>0.286468</td>\n",
       "      <td>-0.411691</td>\n",
       "    </tr>\n",
       "  </tbody>\n",
       "</table>\n",
       "<p>1460 rows × 77 columns</p>\n",
       "</div>"
      ],
      "text/plain": [
       "      WoodDeckSF  TotRmsAbvGrd   LotArea  YearBuilt  GarageArea  KitchenAbvGr  \\\n",
       "0      -0.752176      0.912210 -0.207142   1.050994    0.351000     -0.211454   \n",
       "1       1.626195     -0.318683 -0.091886   0.156734   -0.060731     -0.211454   \n",
       "2      -0.752176     -0.318683  0.073480   0.984752    0.631726     -0.211454   \n",
       "3      -0.752176      0.296763 -0.096897  -1.863632    0.790804     -0.211454   \n",
       "4       0.780197      1.527656  0.375148   0.951632    1.698485     -0.211454   \n",
       "...          ...           ...       ...        ...         ...           ...   \n",
       "1455   -0.752176      0.296763 -0.260560   0.918511   -0.060731     -0.211454   \n",
       "1456    2.033231      0.296763  0.266407   0.222975    0.126420     -0.211454   \n",
       "1457   -0.752176      1.527656 -0.147810  -1.002492   -1.033914     -0.211454   \n",
       "1458    2.168910     -0.934130 -0.080160  -0.704406   -1.090059     -0.211454   \n",
       "1459    5.121921     -0.318683 -0.058112  -0.207594   -0.921624     -0.211454   \n",
       "\n",
       "      OverallCond  BsmtFullBath  ScreenPorch  LowQualFinSF  ...  SaleType  \\\n",
       "0       -0.517200      1.107810    -0.270208     -0.120242  ...  0.313867   \n",
       "1        2.179628     -0.819964    -0.270208     -0.120242  ...  0.313867   \n",
       "2       -0.517200      1.107810    -0.270208     -0.120242  ...  0.313867   \n",
       "3       -0.517200      1.107810    -0.270208     -0.120242  ...  0.313867   \n",
       "4       -0.517200      1.107810    -0.270208     -0.120242  ...  0.313867   \n",
       "...           ...           ...          ...           ...  ...       ...   \n",
       "1455    -0.517200     -0.819964    -0.270208     -0.120242  ...  0.313867   \n",
       "1456     0.381743      1.107810    -0.270208     -0.120242  ...  0.313867   \n",
       "1457     3.078570     -0.819964    -0.270208     -0.120242  ...  0.313867   \n",
       "1458     0.381743      1.107810    -0.270208     -0.120242  ...  0.313867   \n",
       "1459     0.381743      1.107810    -0.270208     -0.120242  ...  0.313867   \n",
       "\n",
       "      SaleCondition  BsmtExposure  ExterQual  BsmtQual  FireplaceQu  \\\n",
       "0          0.208502      0.638078  -0.777976 -0.299527     1.115711   \n",
       "1          0.208502     -1.109753   0.663451 -0.299527     1.115711   \n",
       "2          0.208502     -0.235838  -0.777976 -0.299527     1.115711   \n",
       "3         -3.426284      0.638078   0.663451  0.854323    -0.628334   \n",
       "4          0.208502     -1.983669  -0.777976 -0.299527     1.115711   \n",
       "...             ...           ...        ...       ...          ...   \n",
       "1455       0.208502      0.638078   0.663451 -0.299527     1.115711   \n",
       "1456       0.208502      0.638078   0.663451 -0.299527     1.115711   \n",
       "1457       0.208502      0.638078  -3.660830  0.854323    -0.628334   \n",
       "1458       0.208502     -0.235838   0.663451  0.854323    -3.244401   \n",
       "1459       0.208502      0.638078  -0.777976  0.854323    -3.244401   \n",
       "\n",
       "      HeatingQC  MasVnrType  BsmtCond  BldgType  \n",
       "0     -0.884658   -1.236344  0.286468 -0.411691  \n",
       "1     -0.884658    0.389838  0.286468 -0.411691  \n",
       "2     -0.884658   -1.236344  0.286468 -0.411691  \n",
       "3      0.265476    0.389838 -2.711695 -0.411691  \n",
       "4     -0.884658   -1.236344  0.286468 -0.411691  \n",
       "...         ...         ...       ...       ...  \n",
       "1455  -0.884658    0.389838  0.286468 -0.411691  \n",
       "1456   1.415610    2.016020  0.286468 -0.411691  \n",
       "1457  -0.884658    0.389838 -2.711695 -0.411691  \n",
       "1458   0.265476    0.389838  0.286468 -0.411691  \n",
       "1459   0.265476    0.389838  0.286468 -0.411691  \n",
       "\n",
       "[1460 rows x 77 columns]"
      ]
     },
     "execution_count": 184,
     "metadata": {},
     "output_type": "execute_result"
    }
   ],
   "source": [
    "X = standardized_df[selected_features_list]\n",
    "X"
   ]
  },
  {
   "cell_type": "markdown",
   "metadata": {},
   "source": [
    "## Split the Dataset"
   ]
  },
  {
   "cell_type": "code",
   "execution_count": 129,
   "metadata": {},
   "outputs": [
    {
     "data": {
      "text/html": [
       "<div>\n",
       "<style scoped>\n",
       "    .dataframe tbody tr th:only-of-type {\n",
       "        vertical-align: middle;\n",
       "    }\n",
       "\n",
       "    .dataframe tbody tr th {\n",
       "        vertical-align: top;\n",
       "    }\n",
       "\n",
       "    .dataframe thead th {\n",
       "        text-align: right;\n",
       "    }\n",
       "</style>\n",
       "<table border=\"1\" class=\"dataframe\">\n",
       "  <thead>\n",
       "    <tr style=\"text-align: right;\">\n",
       "      <th></th>\n",
       "      <th>SalePrice</th>\n",
       "    </tr>\n",
       "  </thead>\n",
       "  <tbody>\n",
       "    <tr>\n",
       "      <th>0</th>\n",
       "      <td>0.347273</td>\n",
       "    </tr>\n",
       "    <tr>\n",
       "      <th>1</th>\n",
       "      <td>0.007288</td>\n",
       "    </tr>\n",
       "    <tr>\n",
       "      <th>2</th>\n",
       "      <td>0.536154</td>\n",
       "    </tr>\n",
       "    <tr>\n",
       "      <th>3</th>\n",
       "      <td>-0.515281</td>\n",
       "    </tr>\n",
       "    <tr>\n",
       "      <th>4</th>\n",
       "      <td>0.869843</td>\n",
       "    </tr>\n",
       "    <tr>\n",
       "      <th>...</th>\n",
       "      <td>...</td>\n",
       "    </tr>\n",
       "    <tr>\n",
       "      <th>1455</th>\n",
       "      <td>-0.074560</td>\n",
       "    </tr>\n",
       "    <tr>\n",
       "      <th>1456</th>\n",
       "      <td>0.366161</td>\n",
       "    </tr>\n",
       "    <tr>\n",
       "      <th>1457</th>\n",
       "      <td>1.077611</td>\n",
       "    </tr>\n",
       "    <tr>\n",
       "      <th>1458</th>\n",
       "      <td>-0.488523</td>\n",
       "    </tr>\n",
       "    <tr>\n",
       "      <th>1459</th>\n",
       "      <td>-0.420841</td>\n",
       "    </tr>\n",
       "  </tbody>\n",
       "</table>\n",
       "<p>1460 rows × 1 columns</p>\n",
       "</div>"
      ],
      "text/plain": [
       "      SalePrice\n",
       "0      0.347273\n",
       "1      0.007288\n",
       "2      0.536154\n",
       "3     -0.515281\n",
       "4      0.869843\n",
       "...         ...\n",
       "1455  -0.074560\n",
       "1456   0.366161\n",
       "1457   1.077611\n",
       "1458  -0.488523\n",
       "1459  -0.420841\n",
       "\n",
       "[1460 rows x 1 columns]"
      ]
     },
     "execution_count": 129,
     "metadata": {},
     "output_type": "execute_result"
    }
   ],
   "source": [
    "y = pd.DataFrame(y, columns = df_y.columns)\n",
    "y"
   ]
  },
  {
   "cell_type": "code",
   "execution_count": 130,
   "metadata": {},
   "outputs": [],
   "source": [
    "X_train, X_test, y_train, y_test = train_test_split(X,y,test_size=0.3)"
   ]
  },
  {
   "cell_type": "code",
   "execution_count": 131,
   "metadata": {},
   "outputs": [
    {
     "data": {
      "text/plain": [
       "(1022, 77)"
      ]
     },
     "execution_count": 131,
     "metadata": {},
     "output_type": "execute_result"
    }
   ],
   "source": [
    "X_train.shape"
   ]
  },
  {
   "cell_type": "markdown",
   "metadata": {},
   "source": [
    "## Train the Model"
   ]
  },
  {
   "cell_type": "markdown",
   "metadata": {},
   "source": [
    "**Build the sequential model to be trained on the data**"
   ]
  },
  {
   "cell_type": "code",
   "execution_count": 155,
   "metadata": {},
   "outputs": [],
   "source": [
    "model = Sequential()"
   ]
  },
  {
   "cell_type": "code",
   "execution_count": 156,
   "metadata": {},
   "outputs": [],
   "source": [
    "# input layer\n",
    "model.add(Dense(78, activation = 'relu'))\n",
    "model.add(Dropout(0.2))\n",
    "\n",
    "# hidden layer\n",
    "model.add(Dense(39, activation = 'relu'))\n",
    "model.add(Dropout(0.2))\n",
    "\n",
    "# hidden layer\n",
    "model.add(Dense(19, activation = 'relu'))\n",
    "model.add(Dropout(0.2))\n",
    "\n",
    "# output layer\n",
    "model.add(Dense(units=1, activation = 'sigmoid'))\n",
    "\n",
    "# compile model\n",
    "model.compile(loss='mse', optimizer='adam')"
   ]
  },
  {
   "cell_type": "markdown",
   "metadata": {},
   "source": [
    "**Fit the model to the training data**"
   ]
  },
  {
   "cell_type": "code",
   "execution_count": 157,
   "metadata": {},
   "outputs": [
    {
     "name": "stdout",
     "output_type": "stream",
     "text": [
      "Epoch 1/100\n",
      "WARNING:tensorflow:Layer dense_19 is casting an input tensor from dtype float64 to the layer's dtype of float32, which is new behavior in TensorFlow 2.  The layer has dtype float32 because it's dtype defaults to floatx.\n",
      "\n",
      "If you intended to run this layer in float32, you can safely ignore this warning. If in doubt, this warning is likely only an issue if you are porting a TensorFlow 1.X model to TensorFlow 2.\n",
      "\n",
      "To change all layers to have dtype float64 by default, call `tf.keras.backend.set_floatx('float64')`. To change just this layer, pass dtype='float64' to the layer constructor. If you are the author of this layer, you can disable autocasting by passing autocast=False to the base Layer constructor.\n",
      "\n",
      "4/4 [==============================] - 0s 78ms/step - loss: 1.1881 - val_loss: 1.0039\n",
      "Epoch 2/100\n",
      "4/4 [==============================] - 0s 35ms/step - loss: 1.0566 - val_loss: 0.8948\n",
      "Epoch 3/100\n",
      "4/4 [==============================] - 0s 42ms/step - loss: 0.9760 - val_loss: 0.8001\n",
      "Epoch 4/100\n",
      "4/4 [==============================] - 0s 32ms/step - loss: 0.9054 - val_loss: 0.7224\n",
      "Epoch 5/100\n",
      "4/4 [==============================] - 0s 27ms/step - loss: 0.8309 - val_loss: 0.6642\n",
      "Epoch 6/100\n",
      "4/4 [==============================] - 0s 25ms/step - loss: 0.7640 - val_loss: 0.6230\n",
      "Epoch 7/100\n",
      "4/4 [==============================] - 0s 32ms/step - loss: 0.7392 - val_loss: 0.5961\n",
      "Epoch 8/100\n",
      "4/4 [==============================] - 0s 31ms/step - loss: 0.7119 - val_loss: 0.5785\n",
      "Epoch 9/100\n",
      "4/4 [==============================] - 0s 34ms/step - loss: 0.6897 - val_loss: 0.5668\n",
      "Epoch 10/100\n",
      "4/4 [==============================] - 0s 21ms/step - loss: 0.6685 - val_loss: 0.5589\n",
      "Epoch 11/100\n",
      "4/4 [==============================] - 0s 21ms/step - loss: 0.6695 - val_loss: 0.5534\n",
      "Epoch 12/100\n",
      "4/4 [==============================] - 0s 24ms/step - loss: 0.6658 - val_loss: 0.5493\n",
      "Epoch 13/100\n",
      "4/4 [==============================] - 0s 41ms/step - loss: 0.6485 - val_loss: 0.5459\n",
      "Epoch 14/100\n",
      "4/4 [==============================] - 0s 37ms/step - loss: 0.6478 - val_loss: 0.5431\n",
      "Epoch 15/100\n",
      "4/4 [==============================] - 0s 48ms/step - loss: 0.6355 - val_loss: 0.5406\n",
      "Epoch 16/100\n",
      "4/4 [==============================] - 0s 32ms/step - loss: 0.6301 - val_loss: 0.5383\n",
      "Epoch 17/100\n",
      "4/4 [==============================] - 0s 31ms/step - loss: 0.6281 - val_loss: 0.5363\n",
      "Epoch 18/100\n",
      "4/4 [==============================] - 0s 35ms/step - loss: 0.6271 - val_loss: 0.5345\n",
      "Epoch 19/100\n",
      "4/4 [==============================] - 0s 49ms/step - loss: 0.6251 - val_loss: 0.5330\n",
      "Epoch 20/100\n",
      "4/4 [==============================] - 0s 37ms/step - loss: 0.6229 - val_loss: 0.5314\n",
      "Epoch 21/100\n",
      "4/4 [==============================] - 0s 44ms/step - loss: 0.6206 - val_loss: 0.5301\n",
      "Epoch 22/100\n",
      "4/4 [==============================] - 0s 25ms/step - loss: 0.6225 - val_loss: 0.5291\n",
      "Epoch 23/100\n",
      "4/4 [==============================] - 0s 39ms/step - loss: 0.6160 - val_loss: 0.5282\n",
      "Epoch 24/100\n",
      "4/4 [==============================] - 0s 40ms/step - loss: 0.6201 - val_loss: 0.5275\n",
      "Epoch 25/100\n",
      "4/4 [==============================] - 0s 39ms/step - loss: 0.6185 - val_loss: 0.5269\n",
      "Epoch 26/100\n",
      "4/4 [==============================] - 0s 43ms/step - loss: 0.6181 - val_loss: 0.5264\n",
      "Epoch 27/100\n",
      "4/4 [==============================] - 0s 60ms/step - loss: 0.6157 - val_loss: 0.5258\n",
      "Epoch 28/100\n",
      "4/4 [==============================] - 0s 41ms/step - loss: 0.6139 - val_loss: 0.5255\n",
      "Epoch 29/100\n",
      "4/4 [==============================] - 0s 48ms/step - loss: 0.6142 - val_loss: 0.5250\n",
      "Epoch 30/100\n",
      "4/4 [==============================] - 0s 38ms/step - loss: 0.6111 - val_loss: 0.5250\n",
      "Epoch 31/100\n",
      "4/4 [==============================] - 0s 32ms/step - loss: 0.6120 - val_loss: 0.5248\n",
      "Epoch 32/100\n",
      "4/4 [==============================] - 0s 29ms/step - loss: 0.6091 - val_loss: 0.5247\n",
      "Epoch 33/100\n",
      "4/4 [==============================] - 0s 46ms/step - loss: 0.6072 - val_loss: 0.5248\n",
      "Epoch 34/100\n",
      "4/4 [==============================] - 0s 37ms/step - loss: 0.6110 - val_loss: 0.5247\n",
      "Epoch 35/100\n",
      "4/4 [==============================] - 0s 38ms/step - loss: 0.6075 - val_loss: 0.5245\n",
      "Epoch 36/100\n",
      "4/4 [==============================] - 0s 36ms/step - loss: 0.6058 - val_loss: 0.5243\n",
      "Epoch 37/100\n",
      "4/4 [==============================] - 0s 41ms/step - loss: 0.6081 - val_loss: 0.5241\n",
      "Epoch 38/100\n",
      "4/4 [==============================] - 0s 50ms/step - loss: 0.6039 - val_loss: 0.5240\n",
      "Epoch 39/100\n",
      "4/4 [==============================] - 0s 56ms/step - loss: 0.6079 - val_loss: 0.5242\n",
      "Epoch 40/100\n",
      "4/4 [==============================] - 0s 40ms/step - loss: 0.6054 - val_loss: 0.5241\n",
      "Epoch 41/100\n",
      "4/4 [==============================] - 0s 43ms/step - loss: 0.6063 - val_loss: 0.5242\n",
      "Epoch 42/100\n",
      "4/4 [==============================] - 0s 28ms/step - loss: 0.6042 - val_loss: 0.5243\n",
      "Epoch 43/100\n",
      "4/4 [==============================] - 0s 46ms/step - loss: 0.6072 - val_loss: 0.5246\n",
      "Epoch 44/100\n",
      "4/4 [==============================] - 0s 37ms/step - loss: 0.6067 - val_loss: 0.5249\n",
      "Epoch 45/100\n",
      "4/4 [==============================] - 0s 76ms/step - loss: 0.5999 - val_loss: 0.5250\n",
      "Epoch 46/100\n",
      "4/4 [==============================] - 0s 73ms/step - loss: 0.6008 - val_loss: 0.5252\n",
      "Epoch 47/100\n",
      "4/4 [==============================] - 0s 44ms/step - loss: 0.6017 - val_loss: 0.5250\n",
      "Epoch 48/100\n",
      "4/4 [==============================] - 0s 66ms/step - loss: 0.6059 - val_loss: 0.5251\n",
      "Epoch 49/100\n",
      "4/4 [==============================] - 0s 81ms/step - loss: 0.6019 - val_loss: 0.5251\n",
      "Epoch 50/100\n",
      "4/4 [==============================] - 0s 49ms/step - loss: 0.6011 - val_loss: 0.5247\n",
      "Epoch 51/100\n",
      "4/4 [==============================] - 0s 44ms/step - loss: 0.6014 - val_loss: 0.5243\n",
      "Epoch 52/100\n",
      "4/4 [==============================] - 0s 74ms/step - loss: 0.6013 - val_loss: 0.5238\n",
      "Epoch 53/100\n",
      "4/4 [==============================] - 0s 65ms/step - loss: 0.5996 - val_loss: 0.5238\n",
      "Epoch 54/100\n",
      "4/4 [==============================] - 0s 64ms/step - loss: 0.6034 - val_loss: 0.5242\n",
      "Epoch 55/100\n",
      "4/4 [==============================] - 0s 76ms/step - loss: 0.6029 - val_loss: 0.5244\n",
      "Epoch 56/100\n",
      "4/4 [==============================] - 0s 68ms/step - loss: 0.6010 - val_loss: 0.5240\n",
      "Epoch 57/100\n",
      "4/4 [==============================] - 0s 42ms/step - loss: 0.6005 - val_loss: 0.5236\n",
      "Epoch 58/100\n",
      "4/4 [==============================] - 0s 64ms/step - loss: 0.6005 - val_loss: 0.5235\n",
      "Epoch 59/100\n",
      "4/4 [==============================] - 0s 56ms/step - loss: 0.5997 - val_loss: 0.5236\n",
      "Epoch 60/100\n",
      "4/4 [==============================] - 0s 37ms/step - loss: 0.5990 - val_loss: 0.5237\n",
      "Epoch 61/100\n",
      "4/4 [==============================] - 0s 55ms/step - loss: 0.6003 - val_loss: 0.5236\n",
      "Epoch 62/100\n",
      "4/4 [==============================] - 0s 53ms/step - loss: 0.6007 - val_loss: 0.5233\n",
      "Epoch 63/100\n",
      "4/4 [==============================] - 0s 61ms/step - loss: 0.6007 - val_loss: 0.5232\n",
      "Epoch 64/100\n",
      "4/4 [==============================] - 0s 71ms/step - loss: 0.6006 - val_loss: 0.5231\n",
      "Epoch 65/100\n",
      "4/4 [==============================] - 0s 61ms/step - loss: 0.5992 - val_loss: 0.5232\n",
      "Epoch 66/100\n",
      "4/4 [==============================] - 0s 53ms/step - loss: 0.5990 - val_loss: 0.5231\n",
      "Epoch 67/100\n",
      "4/4 [==============================] - 0s 69ms/step - loss: 0.5974 - val_loss: 0.5230\n",
      "Epoch 68/100\n",
      "4/4 [==============================] - 0s 54ms/step - loss: 0.5990 - val_loss: 0.5230\n",
      "Epoch 69/100\n",
      "4/4 [==============================] - 0s 65ms/step - loss: 0.5957 - val_loss: 0.5230\n",
      "Epoch 70/100\n",
      "4/4 [==============================] - 0s 60ms/step - loss: 0.5987 - val_loss: 0.5232\n",
      "Epoch 71/100\n",
      "4/4 [==============================] - 0s 77ms/step - loss: 0.5975 - val_loss: 0.5235\n",
      "Epoch 72/100\n",
      "4/4 [==============================] - 0s 67ms/step - loss: 0.5986 - val_loss: 0.5238\n",
      "Epoch 73/100\n",
      "4/4 [==============================] - 0s 49ms/step - loss: 0.5970 - val_loss: 0.5240\n",
      "Epoch 74/100\n",
      "4/4 [==============================] - 0s 51ms/step - loss: 0.5965 - val_loss: 0.5240\n",
      "Epoch 75/100\n",
      "4/4 [==============================] - 0s 62ms/step - loss: 0.5969 - val_loss: 0.5237\n",
      "Epoch 76/100\n"
     ]
    },
    {
     "name": "stdout",
     "output_type": "stream",
     "text": [
      "4/4 [==============================] - 0s 52ms/step - loss: 0.5949 - val_loss: 0.5234\n",
      "Epoch 77/100\n",
      "4/4 [==============================] - 0s 44ms/step - loss: 0.5976 - val_loss: 0.5231\n",
      "Epoch 78/100\n",
      "4/4 [==============================] - 0s 66ms/step - loss: 0.5943 - val_loss: 0.5229\n",
      "Epoch 79/100\n",
      "4/4 [==============================] - 0s 58ms/step - loss: 0.5957 - val_loss: 0.5230\n",
      "Epoch 80/100\n",
      "4/4 [==============================] - 0s 59ms/step - loss: 0.5960 - val_loss: 0.5230\n",
      "Epoch 81/100\n",
      "4/4 [==============================] - 0s 64ms/step - loss: 0.5950 - val_loss: 0.5229\n",
      "Epoch 82/100\n",
      "4/4 [==============================] - 0s 30ms/step - loss: 0.5939 - val_loss: 0.5228\n",
      "Epoch 83/100\n",
      "4/4 [==============================] - 0s 64ms/step - loss: 0.5967 - val_loss: 0.5229\n",
      "Epoch 84/100\n",
      "4/4 [==============================] - 0s 36ms/step - loss: 0.5948 - val_loss: 0.5229\n",
      "Epoch 85/100\n",
      "4/4 [==============================] - 0s 52ms/step - loss: 0.5952 - val_loss: 0.5229\n",
      "Epoch 86/100\n",
      "4/4 [==============================] - 0s 51ms/step - loss: 0.5957 - val_loss: 0.5230\n",
      "Epoch 87/100\n",
      "4/4 [==============================] - 0s 39ms/step - loss: 0.5944 - val_loss: 0.5230\n",
      "Epoch 88/100\n",
      "4/4 [==============================] - 0s 56ms/step - loss: 0.5960 - val_loss: 0.5230\n",
      "Epoch 89/100\n",
      "4/4 [==============================] - 0s 68ms/step - loss: 0.5930 - val_loss: 0.5229\n",
      "Epoch 90/100\n",
      "4/4 [==============================] - 0s 68ms/step - loss: 0.5970 - val_loss: 0.5227\n",
      "Epoch 91/100\n",
      "4/4 [==============================] - 0s 69ms/step - loss: 0.5940 - val_loss: 0.5224\n",
      "Epoch 92/100\n",
      "4/4 [==============================] - 0s 60ms/step - loss: 0.5930 - val_loss: 0.5222\n",
      "Epoch 93/100\n",
      "4/4 [==============================] - 0s 56ms/step - loss: 0.5942 - val_loss: 0.5223\n",
      "Epoch 94/100\n",
      "4/4 [==============================] - 0s 40ms/step - loss: 0.5934 - val_loss: 0.5223\n",
      "Epoch 95/100\n",
      "4/4 [==============================] - 0s 59ms/step - loss: 0.5942 - val_loss: 0.5220\n",
      "Epoch 96/100\n",
      "4/4 [==============================] - 0s 45ms/step - loss: 0.5935 - val_loss: 0.5217\n",
      "Epoch 97/100\n",
      "4/4 [==============================] - 0s 47ms/step - loss: 0.5935 - val_loss: 0.5215\n",
      "Epoch 98/100\n",
      "4/4 [==============================] - 0s 58ms/step - loss: 0.5943 - val_loss: 0.5214\n",
      "Epoch 99/100\n",
      "4/4 [==============================] - 0s 85ms/step - loss: 0.5932 - val_loss: 0.5212\n",
      "Epoch 100/100\n",
      "4/4 [==============================] - 0s 57ms/step - loss: 0.5943 - val_loss: 0.5211\n"
     ]
    },
    {
     "data": {
      "text/plain": [
       "<tensorflow.python.keras.callbacks.History at 0x7f86326e13d0>"
      ]
     },
     "execution_count": 157,
     "metadata": {},
     "output_type": "execute_result"
    }
   ],
   "source": [
    "model.fit(X_train, y_train,\n",
    "         validation_data=(X_test, y_test),\n",
    "         epochs = 100,\n",
    "         batch_size=256\n",
    "         )"
   ]
  },
  {
   "cell_type": "markdown",
   "metadata": {},
   "source": [
    "## Evaluate Model Performance"
   ]
  },
  {
   "cell_type": "code",
   "execution_count": 158,
   "metadata": {},
   "outputs": [
    {
     "data": {
      "text/html": [
       "<div>\n",
       "<style scoped>\n",
       "    .dataframe tbody tr th:only-of-type {\n",
       "        vertical-align: middle;\n",
       "    }\n",
       "\n",
       "    .dataframe tbody tr th {\n",
       "        vertical-align: top;\n",
       "    }\n",
       "\n",
       "    .dataframe thead th {\n",
       "        text-align: right;\n",
       "    }\n",
       "</style>\n",
       "<table border=\"1\" class=\"dataframe\">\n",
       "  <thead>\n",
       "    <tr style=\"text-align: right;\">\n",
       "      <th></th>\n",
       "      <th>loss</th>\n",
       "      <th>val_loss</th>\n",
       "    </tr>\n",
       "  </thead>\n",
       "  <tbody>\n",
       "    <tr>\n",
       "      <th>0</th>\n",
       "      <td>1.188085</td>\n",
       "      <td>1.003944</td>\n",
       "    </tr>\n",
       "    <tr>\n",
       "      <th>1</th>\n",
       "      <td>1.056626</td>\n",
       "      <td>0.894766</td>\n",
       "    </tr>\n",
       "    <tr>\n",
       "      <th>2</th>\n",
       "      <td>0.976029</td>\n",
       "      <td>0.800127</td>\n",
       "    </tr>\n",
       "    <tr>\n",
       "      <th>3</th>\n",
       "      <td>0.905448</td>\n",
       "      <td>0.722396</td>\n",
       "    </tr>\n",
       "    <tr>\n",
       "      <th>4</th>\n",
       "      <td>0.830937</td>\n",
       "      <td>0.664165</td>\n",
       "    </tr>\n",
       "    <tr>\n",
       "      <th>...</th>\n",
       "      <td>...</td>\n",
       "      <td>...</td>\n",
       "    </tr>\n",
       "    <tr>\n",
       "      <th>95</th>\n",
       "      <td>0.593462</td>\n",
       "      <td>0.521656</td>\n",
       "    </tr>\n",
       "    <tr>\n",
       "      <th>96</th>\n",
       "      <td>0.593533</td>\n",
       "      <td>0.521504</td>\n",
       "    </tr>\n",
       "    <tr>\n",
       "      <th>97</th>\n",
       "      <td>0.594322</td>\n",
       "      <td>0.521384</td>\n",
       "    </tr>\n",
       "    <tr>\n",
       "      <th>98</th>\n",
       "      <td>0.593200</td>\n",
       "      <td>0.521164</td>\n",
       "    </tr>\n",
       "    <tr>\n",
       "      <th>99</th>\n",
       "      <td>0.594304</td>\n",
       "      <td>0.521088</td>\n",
       "    </tr>\n",
       "  </tbody>\n",
       "</table>\n",
       "<p>100 rows × 2 columns</p>\n",
       "</div>"
      ],
      "text/plain": [
       "        loss  val_loss\n",
       "0   1.188085  1.003944\n",
       "1   1.056626  0.894766\n",
       "2   0.976029  0.800127\n",
       "3   0.905448  0.722396\n",
       "4   0.830937  0.664165\n",
       "..       ...       ...\n",
       "95  0.593462  0.521656\n",
       "96  0.593533  0.521504\n",
       "97  0.594322  0.521384\n",
       "98  0.593200  0.521164\n",
       "99  0.594304  0.521088\n",
       "\n",
       "[100 rows x 2 columns]"
      ]
     },
     "execution_count": 158,
     "metadata": {},
     "output_type": "execute_result"
    }
   ],
   "source": [
    "losses = pd.DataFrame(model.history.history)\n",
    "losses"
   ]
  },
  {
   "cell_type": "code",
   "execution_count": 159,
   "metadata": {},
   "outputs": [
    {
     "data": {
      "text/plain": [
       "<matplotlib.axes._subplots.AxesSubplot at 0x7f86323e00d0>"
      ]
     },
     "execution_count": 159,
     "metadata": {},
     "output_type": "execute_result"
    },
    {
     "data": {
      "image/png": "[encoded data removed]",
      "text/plain": [
       "<Figure size 432x288 with 1 Axes>"
      ]
     },
     "metadata": {
      "needs_background": "light"
     },
     "output_type": "display_data"
    }
   ],
   "source": [
    "losses.plot()"
   ]
  },
  {
   "cell_type": "code",
   "execution_count": 163,
   "metadata": {},
   "outputs": [],
   "source": [
    "y_hat = model.predict(X_test)"
   ]
  },
  {
   "cell_type": "code",
   "execution_count": 164,
   "metadata": {},
   "outputs": [
    {
     "data": {
      "text/plain": [
       "0.541723015686012"
      ]
     },
     "execution_count": 164,
     "metadata": {},
     "output_type": "execute_result"
    }
   ],
   "source": [
    "mean_absolute_error(y_test,y_hat)"
   ]
  },
  {
   "cell_type": "code",
   "execution_count": 165,
   "metadata": {},
   "outputs": [
    {
     "data": {
      "text/plain": [
       "0.5210876421954738"
      ]
     },
     "execution_count": 165,
     "metadata": {},
     "output_type": "execute_result"
    }
   ],
   "source": [
    "mean_squared_error(y_test, y_hat)"
   ]
  },
  {
   "cell_type": "code",
   "execution_count": 185,
   "metadata": {},
   "outputs": [
    {
     "data": {
      "text/plain": [
       "<matplotlib.collections.PathCollection at 0x7f86f7501790>"
      ]
     },
     "execution_count": 185,
     "metadata": {},
     "output_type": "execute_result"
    },
    {
     "data": {
      "image/png": "[encoded data removed]",
      "text/plain": [
       "<Figure size 432x288 with 1 Axes>"
      ]
     },
     "metadata": {
      "needs_background": "light"
     },
     "output_type": "display_data"
    }
   ],
   "source": [
    "# Predicted values vs Actual Values\n",
    "plt.scatter(y_test, y_hat)"
   ]
  },
  {
   "cell_type": "code",
   "execution_count": 189,
   "metadata": {},
   "outputs": [
    {
     "data": {
      "text/plain": [
       "MSSubClass         60\n",
       "MSZoning           RL\n",
       "LotFrontage        65\n",
       "LotArea          8450\n",
       "Street              1\n",
       "                 ... \n",
       "MiscVal             0\n",
       "MoSold              2\n",
       "YrSold           2008\n",
       "SaleType            8\n",
       "SaleCondition       4\n",
       "Name: 0, Length: 75, dtype: object"
      ]
     },
     "execution_count": 189,
     "metadata": {},
     "output_type": "execute_result"
    }
   ],
   "source": [
    "entry_field = data.drop('SalePrice', axis=1).iloc[0]\n",
    "entry_field"
   ]
  },
  {
   "cell_type": "code",
   "execution_count": 195,
   "metadata": {},
   "outputs": [
    {
     "ename": "ValueError",
     "evalue": "Failed to convert a NumPy array to a Tensor (Unsupported object type numpy.int64).",
     "output_type": "error",
     "traceback": [
      "\u001b[0;31m---------------------------------------------------------------------------\u001b[0m",
      "\u001b[0;31mValueError\u001b[0m                                Traceback (most recent call last)",
      "\u001b[0;32m<ipython-input-195-63e90b270379>\u001b[0m in \u001b[0;36m<module>\u001b[0;34m\u001b[0m\n\u001b[0;32m----> 1\u001b[0;31m \u001b[0mmodel\u001b[0m\u001b[0;34m.\u001b[0m\u001b[0mpredict\u001b[0m\u001b[0;34m(\u001b[0m\u001b[0mentry_field\u001b[0m\u001b[0;34m.\u001b[0m\u001b[0mvalues\u001b[0m\u001b[0;34m.\u001b[0m\u001b[0mreshape\u001b[0m\u001b[0;34m(\u001b[0m\u001b[0;36m1\u001b[0m\u001b[0;34m,\u001b[0m\u001b[0;36m75\u001b[0m\u001b[0;34m)\u001b[0m\u001b[0;34m)\u001b[0m\u001b[0;34m\u001b[0m\u001b[0;34m\u001b[0m\u001b[0m\n\u001b[0m",
      "\u001b[0;32m~/anaconda3/lib/python3.8/site-packages/tensorflow/python/keras/engine/training.py\u001b[0m in \u001b[0;36m_method_wrapper\u001b[0;34m(self, *args, **kwargs)\u001b[0m\n\u001b[1;32m     86\u001b[0m       raise ValueError('{} is not supported in multi-worker mode.'.format(\n\u001b[1;32m     87\u001b[0m           method.__name__))\n\u001b[0;32m---> 88\u001b[0;31m     \u001b[0;32mreturn\u001b[0m \u001b[0mmethod\u001b[0m\u001b[0;34m(\u001b[0m\u001b[0mself\u001b[0m\u001b[0;34m,\u001b[0m \u001b[0;34m*\u001b[0m\u001b[0margs\u001b[0m\u001b[0;34m,\u001b[0m \u001b[0;34m**\u001b[0m\u001b[0mkwargs\u001b[0m\u001b[0;34m)\u001b[0m\u001b[0;34m\u001b[0m\u001b[0;34m\u001b[0m\u001b[0m\n\u001b[0m\u001b[1;32m     89\u001b[0m \u001b[0;34m\u001b[0m\u001b[0m\n\u001b[1;32m     90\u001b[0m   return tf_decorator.make_decorator(\n",
      "\u001b[0;32m~/anaconda3/lib/python3.8/site-packages/tensorflow/python/keras/engine/training.py\u001b[0m in \u001b[0;36mpredict\u001b[0;34m(self, x, batch_size, verbose, steps, callbacks, max_queue_size, workers, use_multiprocessing)\u001b[0m\n\u001b[1;32m   1238\u001b[0m     \u001b[0;32mwith\u001b[0m \u001b[0mself\u001b[0m\u001b[0;34m.\u001b[0m\u001b[0mdistribute_strategy\u001b[0m\u001b[0;34m.\u001b[0m\u001b[0mscope\u001b[0m\u001b[0;34m(\u001b[0m\u001b[0;34m)\u001b[0m\u001b[0;34m:\u001b[0m\u001b[0;34m\u001b[0m\u001b[0;34m\u001b[0m\u001b[0m\n\u001b[1;32m   1239\u001b[0m       \u001b[0;31m# Creates a `tf.data.Dataset` and handles batch and epoch iteration.\u001b[0m\u001b[0;34m\u001b[0m\u001b[0;34m\u001b[0m\u001b[0;34m\u001b[0m\u001b[0m\n\u001b[0;32m-> 1240\u001b[0;31m       data_handler = data_adapter.DataHandler(\n\u001b[0m\u001b[1;32m   1241\u001b[0m           \u001b[0mx\u001b[0m\u001b[0;34m=\u001b[0m\u001b[0mx\u001b[0m\u001b[0;34m,\u001b[0m\u001b[0;34m\u001b[0m\u001b[0;34m\u001b[0m\u001b[0m\n\u001b[1;32m   1242\u001b[0m           \u001b[0mbatch_size\u001b[0m\u001b[0;34m=\u001b[0m\u001b[0mbatch_size\u001b[0m\u001b[0;34m,\u001b[0m\u001b[0;34m\u001b[0m\u001b[0;34m\u001b[0m\u001b[0m\n",
      "\u001b[0;32m~/anaconda3/lib/python3.8/site-packages/tensorflow/python/keras/engine/data_adapter.py\u001b[0m in \u001b[0;36m__init__\u001b[0;34m(self, x, y, sample_weight, batch_size, steps_per_epoch, initial_epoch, epochs, shuffle, class_weight, max_queue_size, workers, use_multiprocessing, model)\u001b[0m\n\u001b[1;32m   1098\u001b[0m \u001b[0;34m\u001b[0m\u001b[0m\n\u001b[1;32m   1099\u001b[0m     \u001b[0madapter_cls\u001b[0m \u001b[0;34m=\u001b[0m \u001b[0mselect_data_adapter\u001b[0m\u001b[0;34m(\u001b[0m\u001b[0mx\u001b[0m\u001b[0;34m,\u001b[0m \u001b[0my\u001b[0m\u001b[0;34m)\u001b[0m\u001b[0;34m\u001b[0m\u001b[0;34m\u001b[0m\u001b[0m\n\u001b[0;32m-> 1100\u001b[0;31m     self._adapter = adapter_cls(\n\u001b[0m\u001b[1;32m   1101\u001b[0m         \u001b[0mx\u001b[0m\u001b[0;34m,\u001b[0m\u001b[0;34m\u001b[0m\u001b[0;34m\u001b[0m\u001b[0m\n\u001b[1;32m   1102\u001b[0m         \u001b[0my\u001b[0m\u001b[0;34m,\u001b[0m\u001b[0;34m\u001b[0m\u001b[0;34m\u001b[0m\u001b[0m\n",
      "\u001b[0;32m~/anaconda3/lib/python3.8/site-packages/tensorflow/python/keras/engine/data_adapter.py\u001b[0m in \u001b[0;36m__init__\u001b[0;34m(self, x, y, sample_weights, sample_weight_modes, batch_size, epochs, steps, shuffle, **kwargs)\u001b[0m\n\u001b[1;32m    263\u001b[0m                **kwargs):\n\u001b[1;32m    264\u001b[0m     \u001b[0msuper\u001b[0m\u001b[0;34m(\u001b[0m\u001b[0mTensorLikeDataAdapter\u001b[0m\u001b[0;34m,\u001b[0m \u001b[0mself\u001b[0m\u001b[0;34m)\u001b[0m\u001b[0;34m.\u001b[0m\u001b[0m__init__\u001b[0m\u001b[0;34m(\u001b[0m\u001b[0mx\u001b[0m\u001b[0;34m,\u001b[0m \u001b[0my\u001b[0m\u001b[0;34m,\u001b[0m \u001b[0;34m**\u001b[0m\u001b[0mkwargs\u001b[0m\u001b[0;34m)\u001b[0m\u001b[0;34m\u001b[0m\u001b[0;34m\u001b[0m\u001b[0m\n\u001b[0;32m--> 265\u001b[0;31m     \u001b[0mx\u001b[0m\u001b[0;34m,\u001b[0m \u001b[0my\u001b[0m\u001b[0;34m,\u001b[0m \u001b[0msample_weights\u001b[0m \u001b[0;34m=\u001b[0m \u001b[0m_process_tensorlike\u001b[0m\u001b[0;34m(\u001b[0m\u001b[0;34m(\u001b[0m\u001b[0mx\u001b[0m\u001b[0;34m,\u001b[0m \u001b[0my\u001b[0m\u001b[0;34m,\u001b[0m \u001b[0msample_weights\u001b[0m\u001b[0;34m)\u001b[0m\u001b[0;34m)\u001b[0m\u001b[0;34m\u001b[0m\u001b[0;34m\u001b[0m\u001b[0m\n\u001b[0m\u001b[1;32m    266\u001b[0m     sample_weight_modes = broadcast_sample_weight_modes(\n\u001b[1;32m    267\u001b[0m         sample_weights, sample_weight_modes)\n",
      "\u001b[0;32m~/anaconda3/lib/python3.8/site-packages/tensorflow/python/keras/engine/data_adapter.py\u001b[0m in \u001b[0;36m_process_tensorlike\u001b[0;34m(inputs)\u001b[0m\n\u001b[1;32m   1011\u001b[0m     \u001b[0;32mreturn\u001b[0m \u001b[0mx\u001b[0m\u001b[0;34m\u001b[0m\u001b[0;34m\u001b[0m\u001b[0m\n\u001b[1;32m   1012\u001b[0m \u001b[0;34m\u001b[0m\u001b[0m\n\u001b[0;32m-> 1013\u001b[0;31m   \u001b[0minputs\u001b[0m \u001b[0;34m=\u001b[0m \u001b[0mnest\u001b[0m\u001b[0;34m.\u001b[0m\u001b[0mmap_structure\u001b[0m\u001b[0;34m(\u001b[0m\u001b[0m_convert_numpy_and_scipy\u001b[0m\u001b[0;34m,\u001b[0m \u001b[0minputs\u001b[0m\u001b[0;34m)\u001b[0m\u001b[0;34m\u001b[0m\u001b[0;34m\u001b[0m\u001b[0m\n\u001b[0m\u001b[1;32m   1014\u001b[0m   \u001b[0;32mreturn\u001b[0m \u001b[0mnest\u001b[0m\u001b[0;34m.\u001b[0m\u001b[0m_list_to_tuple\u001b[0m\u001b[0;34m(\u001b[0m\u001b[0minputs\u001b[0m\u001b[0;34m)\u001b[0m  \u001b[0;31m# pylint: disable=protected-access\u001b[0m\u001b[0;34m\u001b[0m\u001b[0;34m\u001b[0m\u001b[0m\n\u001b[1;32m   1015\u001b[0m \u001b[0;34m\u001b[0m\u001b[0m\n",
      "\u001b[0;32m~/anaconda3/lib/python3.8/site-packages/tensorflow/python/util/nest.py\u001b[0m in \u001b[0;36mmap_structure\u001b[0;34m(func, *structure, **kwargs)\u001b[0m\n\u001b[1;32m    615\u001b[0m \u001b[0;34m\u001b[0m\u001b[0m\n\u001b[1;32m    616\u001b[0m   return pack_sequence_as(\n\u001b[0;32m--> 617\u001b[0;31m       \u001b[0mstructure\u001b[0m\u001b[0;34m[\u001b[0m\u001b[0;36m0\u001b[0m\u001b[0;34m]\u001b[0m\u001b[0;34m,\u001b[0m \u001b[0;34m[\u001b[0m\u001b[0mfunc\u001b[0m\u001b[0;34m(\u001b[0m\u001b[0;34m*\u001b[0m\u001b[0mx\u001b[0m\u001b[0;34m)\u001b[0m \u001b[0;32mfor\u001b[0m \u001b[0mx\u001b[0m \u001b[0;32min\u001b[0m \u001b[0mentries\u001b[0m\u001b[0;34m]\u001b[0m\u001b[0;34m,\u001b[0m\u001b[0;34m\u001b[0m\u001b[0;34m\u001b[0m\u001b[0m\n\u001b[0m\u001b[1;32m    618\u001b[0m       expand_composites=expand_composites)\n\u001b[1;32m    619\u001b[0m \u001b[0;34m\u001b[0m\u001b[0m\n",
      "\u001b[0;32m~/anaconda3/lib/python3.8/site-packages/tensorflow/python/util/nest.py\u001b[0m in \u001b[0;36m<listcomp>\u001b[0;34m(.0)\u001b[0m\n\u001b[1;32m    615\u001b[0m \u001b[0;34m\u001b[0m\u001b[0m\n\u001b[1;32m    616\u001b[0m   return pack_sequence_as(\n\u001b[0;32m--> 617\u001b[0;31m       \u001b[0mstructure\u001b[0m\u001b[0;34m[\u001b[0m\u001b[0;36m0\u001b[0m\u001b[0;34m]\u001b[0m\u001b[0;34m,\u001b[0m \u001b[0;34m[\u001b[0m\u001b[0mfunc\u001b[0m\u001b[0;34m(\u001b[0m\u001b[0;34m*\u001b[0m\u001b[0mx\u001b[0m\u001b[0;34m)\u001b[0m \u001b[0;32mfor\u001b[0m \u001b[0mx\u001b[0m \u001b[0;32min\u001b[0m \u001b[0mentries\u001b[0m\u001b[0;34m]\u001b[0m\u001b[0;34m,\u001b[0m\u001b[0;34m\u001b[0m\u001b[0;34m\u001b[0m\u001b[0m\n\u001b[0m\u001b[1;32m    618\u001b[0m       expand_composites=expand_composites)\n\u001b[1;32m    619\u001b[0m \u001b[0;34m\u001b[0m\u001b[0m\n",
      "\u001b[0;32m~/anaconda3/lib/python3.8/site-packages/tensorflow/python/keras/engine/data_adapter.py\u001b[0m in \u001b[0;36m_convert_numpy_and_scipy\u001b[0;34m(x)\u001b[0m\n\u001b[1;32m   1006\u001b[0m       \u001b[0;32mif\u001b[0m \u001b[0missubclass\u001b[0m\u001b[0;34m(\u001b[0m\u001b[0mx\u001b[0m\u001b[0;34m.\u001b[0m\u001b[0mdtype\u001b[0m\u001b[0;34m.\u001b[0m\u001b[0mtype\u001b[0m\u001b[0;34m,\u001b[0m \u001b[0mnp\u001b[0m\u001b[0;34m.\u001b[0m\u001b[0mfloating\u001b[0m\u001b[0;34m)\u001b[0m\u001b[0;34m:\u001b[0m\u001b[0;34m\u001b[0m\u001b[0;34m\u001b[0m\u001b[0m\n\u001b[1;32m   1007\u001b[0m         \u001b[0mdtype\u001b[0m \u001b[0;34m=\u001b[0m \u001b[0mbackend\u001b[0m\u001b[0;34m.\u001b[0m\u001b[0mfloatx\u001b[0m\u001b[0;34m(\u001b[0m\u001b[0;34m)\u001b[0m\u001b[0;34m\u001b[0m\u001b[0;34m\u001b[0m\u001b[0m\n\u001b[0;32m-> 1008\u001b[0;31m       \u001b[0;32mreturn\u001b[0m \u001b[0mops\u001b[0m\u001b[0;34m.\u001b[0m\u001b[0mconvert_to_tensor\u001b[0m\u001b[0;34m(\u001b[0m\u001b[0mx\u001b[0m\u001b[0;34m,\u001b[0m \u001b[0mdtype\u001b[0m\u001b[0;34m=\u001b[0m\u001b[0mdtype\u001b[0m\u001b[0;34m)\u001b[0m\u001b[0;34m\u001b[0m\u001b[0;34m\u001b[0m\u001b[0m\n\u001b[0m\u001b[1;32m   1009\u001b[0m     \u001b[0;32melif\u001b[0m \u001b[0mscipy_sparse\u001b[0m \u001b[0;32mand\u001b[0m \u001b[0mscipy_sparse\u001b[0m\u001b[0;34m.\u001b[0m\u001b[0missparse\u001b[0m\u001b[0;34m(\u001b[0m\u001b[0mx\u001b[0m\u001b[0;34m)\u001b[0m\u001b[0;34m:\u001b[0m\u001b[0;34m\u001b[0m\u001b[0;34m\u001b[0m\u001b[0m\n\u001b[1;32m   1010\u001b[0m       \u001b[0;32mreturn\u001b[0m \u001b[0m_scipy_sparse_to_sparse_tensor\u001b[0m\u001b[0;34m(\u001b[0m\u001b[0mx\u001b[0m\u001b[0;34m)\u001b[0m\u001b[0;34m\u001b[0m\u001b[0;34m\u001b[0m\u001b[0m\n",
      "\u001b[0;32m~/anaconda3/lib/python3.8/site-packages/tensorflow/python/framework/ops.py\u001b[0m in \u001b[0;36mconvert_to_tensor\u001b[0;34m(value, dtype, name, as_ref, preferred_dtype, dtype_hint, ctx, accepted_result_types)\u001b[0m\n\u001b[1;32m   1339\u001b[0m \u001b[0;34m\u001b[0m\u001b[0m\n\u001b[1;32m   1340\u001b[0m     \u001b[0;32mif\u001b[0m \u001b[0mret\u001b[0m \u001b[0;32mis\u001b[0m \u001b[0;32mNone\u001b[0m\u001b[0;34m:\u001b[0m\u001b[0;34m\u001b[0m\u001b[0;34m\u001b[0m\u001b[0m\n\u001b[0;32m-> 1341\u001b[0;31m       \u001b[0mret\u001b[0m \u001b[0;34m=\u001b[0m \u001b[0mconversion_func\u001b[0m\u001b[0;34m(\u001b[0m\u001b[0mvalue\u001b[0m\u001b[0;34m,\u001b[0m \u001b[0mdtype\u001b[0m\u001b[0;34m=\u001b[0m\u001b[0mdtype\u001b[0m\u001b[0;34m,\u001b[0m \u001b[0mname\u001b[0m\u001b[0;34m=\u001b[0m\u001b[0mname\u001b[0m\u001b[0;34m,\u001b[0m \u001b[0mas_ref\u001b[0m\u001b[0;34m=\u001b[0m\u001b[0mas_ref\u001b[0m\u001b[0;34m)\u001b[0m\u001b[0;34m\u001b[0m\u001b[0;34m\u001b[0m\u001b[0m\n\u001b[0m\u001b[1;32m   1342\u001b[0m \u001b[0;34m\u001b[0m\u001b[0m\n\u001b[1;32m   1343\u001b[0m     \u001b[0;32mif\u001b[0m \u001b[0mret\u001b[0m \u001b[0;32mis\u001b[0m \u001b[0mNotImplemented\u001b[0m\u001b[0;34m:\u001b[0m\u001b[0;34m\u001b[0m\u001b[0;34m\u001b[0m\u001b[0m\n",
      "\u001b[0;32m~/anaconda3/lib/python3.8/site-packages/tensorflow/python/framework/tensor_conversion_registry.py\u001b[0m in \u001b[0;36m_default_conversion_function\u001b[0;34m(***failed resolving arguments***)\u001b[0m\n\u001b[1;32m     50\u001b[0m \u001b[0;32mdef\u001b[0m \u001b[0m_default_conversion_function\u001b[0m\u001b[0;34m(\u001b[0m\u001b[0mvalue\u001b[0m\u001b[0;34m,\u001b[0m \u001b[0mdtype\u001b[0m\u001b[0;34m,\u001b[0m \u001b[0mname\u001b[0m\u001b[0;34m,\u001b[0m \u001b[0mas_ref\u001b[0m\u001b[0;34m)\u001b[0m\u001b[0;34m:\u001b[0m\u001b[0;34m\u001b[0m\u001b[0;34m\u001b[0m\u001b[0m\n\u001b[1;32m     51\u001b[0m   \u001b[0;32mdel\u001b[0m \u001b[0mas_ref\u001b[0m  \u001b[0;31m# Unused.\u001b[0m\u001b[0;34m\u001b[0m\u001b[0;34m\u001b[0m\u001b[0m\n\u001b[0;32m---> 52\u001b[0;31m   \u001b[0;32mreturn\u001b[0m \u001b[0mconstant_op\u001b[0m\u001b[0;34m.\u001b[0m\u001b[0mconstant\u001b[0m\u001b[0;34m(\u001b[0m\u001b[0mvalue\u001b[0m\u001b[0;34m,\u001b[0m \u001b[0mdtype\u001b[0m\u001b[0;34m,\u001b[0m \u001b[0mname\u001b[0m\u001b[0;34m=\u001b[0m\u001b[0mname\u001b[0m\u001b[0;34m)\u001b[0m\u001b[0;34m\u001b[0m\u001b[0;34m\u001b[0m\u001b[0m\n\u001b[0m\u001b[1;32m     53\u001b[0m \u001b[0;34m\u001b[0m\u001b[0m\n\u001b[1;32m     54\u001b[0m \u001b[0;34m\u001b[0m\u001b[0m\n",
      "\u001b[0;32m~/anaconda3/lib/python3.8/site-packages/tensorflow/python/framework/constant_op.py\u001b[0m in \u001b[0;36mconstant\u001b[0;34m(value, dtype, shape, name)\u001b[0m\n\u001b[1;32m    259\u001b[0m     \u001b[0mValueError\u001b[0m\u001b[0;34m:\u001b[0m \u001b[0;32mif\u001b[0m \u001b[0mcalled\u001b[0m \u001b[0mon\u001b[0m \u001b[0ma\u001b[0m \u001b[0msymbolic\u001b[0m \u001b[0mtensor\u001b[0m\u001b[0;34m.\u001b[0m\u001b[0;34m\u001b[0m\u001b[0;34m\u001b[0m\u001b[0m\n\u001b[1;32m    260\u001b[0m   \"\"\"\n\u001b[0;32m--> 261\u001b[0;31m   return _constant_impl(value, dtype, shape, name, verify_shape=False,\n\u001b[0m\u001b[1;32m    262\u001b[0m                         allow_broadcast=True)\n\u001b[1;32m    263\u001b[0m \u001b[0;34m\u001b[0m\u001b[0m\n",
      "\u001b[0;32m~/anaconda3/lib/python3.8/site-packages/tensorflow/python/framework/constant_op.py\u001b[0m in \u001b[0;36m_constant_impl\u001b[0;34m(value, dtype, shape, name, verify_shape, allow_broadcast)\u001b[0m\n\u001b[1;32m    268\u001b[0m   \u001b[0mctx\u001b[0m \u001b[0;34m=\u001b[0m \u001b[0mcontext\u001b[0m\u001b[0;34m.\u001b[0m\u001b[0mcontext\u001b[0m\u001b[0;34m(\u001b[0m\u001b[0;34m)\u001b[0m\u001b[0;34m\u001b[0m\u001b[0;34m\u001b[0m\u001b[0m\n\u001b[1;32m    269\u001b[0m   \u001b[0;32mif\u001b[0m \u001b[0mctx\u001b[0m\u001b[0;34m.\u001b[0m\u001b[0mexecuting_eagerly\u001b[0m\u001b[0;34m(\u001b[0m\u001b[0;34m)\u001b[0m\u001b[0;34m:\u001b[0m\u001b[0;34m\u001b[0m\u001b[0;34m\u001b[0m\u001b[0m\n\u001b[0;32m--> 270\u001b[0;31m     \u001b[0mt\u001b[0m \u001b[0;34m=\u001b[0m \u001b[0mconvert_to_eager_tensor\u001b[0m\u001b[0;34m(\u001b[0m\u001b[0mvalue\u001b[0m\u001b[0;34m,\u001b[0m \u001b[0mctx\u001b[0m\u001b[0;34m,\u001b[0m \u001b[0mdtype\u001b[0m\u001b[0;34m)\u001b[0m\u001b[0;34m\u001b[0m\u001b[0;34m\u001b[0m\u001b[0m\n\u001b[0m\u001b[1;32m    271\u001b[0m     \u001b[0;32mif\u001b[0m \u001b[0mshape\u001b[0m \u001b[0;32mis\u001b[0m \u001b[0;32mNone\u001b[0m\u001b[0;34m:\u001b[0m\u001b[0;34m\u001b[0m\u001b[0;34m\u001b[0m\u001b[0m\n\u001b[1;32m    272\u001b[0m       \u001b[0;32mreturn\u001b[0m \u001b[0mt\u001b[0m\u001b[0;34m\u001b[0m\u001b[0;34m\u001b[0m\u001b[0m\n",
      "\u001b[0;32m~/anaconda3/lib/python3.8/site-packages/tensorflow/python/framework/constant_op.py\u001b[0m in \u001b[0;36mconvert_to_eager_tensor\u001b[0;34m(value, ctx, dtype)\u001b[0m\n\u001b[1;32m     94\u001b[0m       \u001b[0mdtype\u001b[0m \u001b[0;34m=\u001b[0m \u001b[0mdtypes\u001b[0m\u001b[0;34m.\u001b[0m\u001b[0mas_dtype\u001b[0m\u001b[0;34m(\u001b[0m\u001b[0mdtype\u001b[0m\u001b[0;34m)\u001b[0m\u001b[0;34m.\u001b[0m\u001b[0mas_datatype_enum\u001b[0m\u001b[0;34m\u001b[0m\u001b[0;34m\u001b[0m\u001b[0m\n\u001b[1;32m     95\u001b[0m   \u001b[0mctx\u001b[0m\u001b[0;34m.\u001b[0m\u001b[0mensure_initialized\u001b[0m\u001b[0;34m(\u001b[0m\u001b[0;34m)\u001b[0m\u001b[0;34m\u001b[0m\u001b[0;34m\u001b[0m\u001b[0m\n\u001b[0;32m---> 96\u001b[0;31m   \u001b[0;32mreturn\u001b[0m \u001b[0mops\u001b[0m\u001b[0;34m.\u001b[0m\u001b[0mEagerTensor\u001b[0m\u001b[0;34m(\u001b[0m\u001b[0mvalue\u001b[0m\u001b[0;34m,\u001b[0m \u001b[0mctx\u001b[0m\u001b[0;34m.\u001b[0m\u001b[0mdevice_name\u001b[0m\u001b[0;34m,\u001b[0m \u001b[0mdtype\u001b[0m\u001b[0;34m)\u001b[0m\u001b[0;34m\u001b[0m\u001b[0;34m\u001b[0m\u001b[0m\n\u001b[0m\u001b[1;32m     97\u001b[0m \u001b[0;34m\u001b[0m\u001b[0m\n\u001b[1;32m     98\u001b[0m \u001b[0;34m\u001b[0m\u001b[0m\n",
      "\u001b[0;31mValueError\u001b[0m: Failed to convert a NumPy array to a Tensor (Unsupported object type numpy.int64)."
     ]
    }
   ],
   "source": [
    "model.predict(entry_field.values.reshape(1,75))"
   ]
  },
  {
   "cell_type": "code",
   "execution_count": null,
   "metadata": {},
   "outputs": [],
   "source": []
  }
 ],
 "metadata": {
  "kernelspec": {
   "display_name": "Python 3",
   "language": "python",
   "name": "python3"
  },
  "language_info": {
   "codemirror_mode": {
    "name": "ipython",
    "version": 3
   },
   "file_extension": ".py",
   "mimetype": "text/x-python",
   "name": "python",
   "nbconvert_exporter": "python",
   "pygments_lexer": "ipython3",
   "version": "3.8.3"
  }
 },
 "nbformat": 4,
 "nbformat_minor": 4
}
